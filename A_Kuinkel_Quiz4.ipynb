{
 "cells": [
  {
   "cell_type": "markdown",
   "metadata": {},
   "source": [
    "## Introduction: \n",
    "\n",
    "#### Read data set from Github repository and load them into pandas"
   ]
  },
  {
   "cell_type": "code",
   "execution_count": 2,
   "metadata": {},
   "outputs": [
    {
     "data": {
      "text/html": [
       "<div>\n",
       "<style scoped>\n",
       "    .dataframe tbody tr th:only-of-type {\n",
       "        vertical-align: middle;\n",
       "    }\n",
       "\n",
       "    .dataframe tbody tr th {\n",
       "        vertical-align: top;\n",
       "    }\n",
       "\n",
       "    .dataframe thead th {\n",
       "        text-align: right;\n",
       "    }\n",
       "</style>\n",
       "<table border=\"1\" class=\"dataframe\">\n",
       "  <thead>\n",
       "    <tr style=\"text-align: right;\">\n",
       "      <th></th>\n",
       "      <th>0</th>\n",
       "      <th>1</th>\n",
       "      <th>2</th>\n",
       "      <th>3</th>\n",
       "      <th>4</th>\n",
       "      <th>5</th>\n",
       "      <th>6</th>\n",
       "      <th>7</th>\n",
       "      <th>8</th>\n",
       "      <th>9</th>\n",
       "      <th>10</th>\n",
       "      <th>11</th>\n",
       "      <th>12</th>\n",
       "      <th>13</th>\n",
       "    </tr>\n",
       "  </thead>\n",
       "  <tbody>\n",
       "    <tr>\n",
       "      <th>0</th>\n",
       "      <td>NaN</td>\n",
       "      <td>dir</td>\n",
       "      <td>hir</td>\n",
       "      <td>lvr</td>\n",
       "      <td>ccs</td>\n",
       "      <td>mcs</td>\n",
       "      <td>pbcr</td>\n",
       "      <td>dmi</td>\n",
       "      <td>self</td>\n",
       "      <td>single</td>\n",
       "      <td>uria</td>\n",
       "      <td>comdominiom</td>\n",
       "      <td>black</td>\n",
       "      <td>deny</td>\n",
       "    </tr>\n",
       "    <tr>\n",
       "      <th>1</th>\n",
       "      <td>1.0</td>\n",
       "      <td>0.221000004</td>\n",
       "      <td>0.221000004</td>\n",
       "      <td>0.8</td>\n",
       "      <td>5</td>\n",
       "      <td>2</td>\n",
       "      <td>no</td>\n",
       "      <td>no</td>\n",
       "      <td>no</td>\n",
       "      <td>no</td>\n",
       "      <td>3.900000095</td>\n",
       "      <td>0</td>\n",
       "      <td>no</td>\n",
       "      <td>no</td>\n",
       "    </tr>\n",
       "    <tr>\n",
       "      <th>2</th>\n",
       "      <td>2.0</td>\n",
       "      <td>0.265</td>\n",
       "      <td>0.265</td>\n",
       "      <td>0.921875</td>\n",
       "      <td>2</td>\n",
       "      <td>2</td>\n",
       "      <td>no</td>\n",
       "      <td>no</td>\n",
       "      <td>no</td>\n",
       "      <td>yes</td>\n",
       "      <td>3.200000048</td>\n",
       "      <td>0</td>\n",
       "      <td>no</td>\n",
       "      <td>no</td>\n",
       "    </tr>\n",
       "    <tr>\n",
       "      <th>3</th>\n",
       "      <td>3.0</td>\n",
       "      <td>0.372000008</td>\n",
       "      <td>0.247999992</td>\n",
       "      <td>0.92039801</td>\n",
       "      <td>1</td>\n",
       "      <td>2</td>\n",
       "      <td>no</td>\n",
       "      <td>no</td>\n",
       "      <td>no</td>\n",
       "      <td>no</td>\n",
       "      <td>3.200000048</td>\n",
       "      <td>0</td>\n",
       "      <td>no</td>\n",
       "      <td>no</td>\n",
       "    </tr>\n",
       "    <tr>\n",
       "      <th>4</th>\n",
       "      <td>4.0</td>\n",
       "      <td>0.32</td>\n",
       "      <td>0.25</td>\n",
       "      <td>0.860465116</td>\n",
       "      <td>1</td>\n",
       "      <td>2</td>\n",
       "      <td>no</td>\n",
       "      <td>no</td>\n",
       "      <td>no</td>\n",
       "      <td>no</td>\n",
       "      <td>4.300000191</td>\n",
       "      <td>0</td>\n",
       "      <td>no</td>\n",
       "      <td>no</td>\n",
       "    </tr>\n",
       "    <tr>\n",
       "      <th>...</th>\n",
       "      <td>...</td>\n",
       "      <td>...</td>\n",
       "      <td>...</td>\n",
       "      <td>...</td>\n",
       "      <td>...</td>\n",
       "      <td>...</td>\n",
       "      <td>...</td>\n",
       "      <td>...</td>\n",
       "      <td>...</td>\n",
       "      <td>...</td>\n",
       "      <td>...</td>\n",
       "      <td>...</td>\n",
       "      <td>...</td>\n",
       "      <td>...</td>\n",
       "    </tr>\n",
       "    <tr>\n",
       "      <th>95</th>\n",
       "      <td>95.0</td>\n",
       "      <td>0.312000008</td>\n",
       "      <td>0.256000004</td>\n",
       "      <td>0.792207792</td>\n",
       "      <td>1</td>\n",
       "      <td>2</td>\n",
       "      <td>no</td>\n",
       "      <td>no</td>\n",
       "      <td>yes</td>\n",
       "      <td>no</td>\n",
       "      <td>1.799999952</td>\n",
       "      <td>0</td>\n",
       "      <td>no</td>\n",
       "      <td>no</td>\n",
       "    </tr>\n",
       "    <tr>\n",
       "      <th>96</th>\n",
       "      <td>96.0</td>\n",
       "      <td>0.33</td>\n",
       "      <td>0.31</td>\n",
       "      <td>0.580246914</td>\n",
       "      <td>1</td>\n",
       "      <td>2</td>\n",
       "      <td>no</td>\n",
       "      <td>no</td>\n",
       "      <td>no</td>\n",
       "      <td>yes</td>\n",
       "      <td>4.300000191</td>\n",
       "      <td>1</td>\n",
       "      <td>no</td>\n",
       "      <td>no</td>\n",
       "    </tr>\n",
       "    <tr>\n",
       "      <th>97</th>\n",
       "      <td>97.0</td>\n",
       "      <td>0.32</td>\n",
       "      <td>0.31</td>\n",
       "      <td>0.636363636</td>\n",
       "      <td>2</td>\n",
       "      <td>2</td>\n",
       "      <td>no</td>\n",
       "      <td>no</td>\n",
       "      <td>no</td>\n",
       "      <td>no</td>\n",
       "      <td>3.200000048</td>\n",
       "      <td>0</td>\n",
       "      <td>no</td>\n",
       "      <td>no</td>\n",
       "    </tr>\n",
       "    <tr>\n",
       "      <th>98</th>\n",
       "      <td>98.0</td>\n",
       "      <td>0.38</td>\n",
       "      <td>0.3</td>\n",
       "      <td>0.876470588</td>\n",
       "      <td>2</td>\n",
       "      <td>1</td>\n",
       "      <td>no</td>\n",
       "      <td>no</td>\n",
       "      <td>no</td>\n",
       "      <td>no</td>\n",
       "      <td>10.60000038</td>\n",
       "      <td>0</td>\n",
       "      <td>no</td>\n",
       "      <td>no</td>\n",
       "    </tr>\n",
       "    <tr>\n",
       "      <th>99</th>\n",
       "      <td>99.0</td>\n",
       "      <td>0.32</td>\n",
       "      <td>0.2</td>\n",
       "      <td>0.796992481</td>\n",
       "      <td>1</td>\n",
       "      <td>2</td>\n",
       "      <td>no</td>\n",
       "      <td>no</td>\n",
       "      <td>no</td>\n",
       "      <td>no</td>\n",
       "      <td>2</td>\n",
       "      <td>0</td>\n",
       "      <td>no</td>\n",
       "      <td>no</td>\n",
       "    </tr>\n",
       "  </tbody>\n",
       "</table>\n",
       "<p>100 rows × 14 columns</p>\n",
       "</div>"
      ],
      "text/plain": [
       "      0            1            2            3    4    5     6    7     8   \\\n",
       "0    NaN          dir          hir          lvr  ccs  mcs  pbcr  dmi  self   \n",
       "1    1.0  0.221000004  0.221000004          0.8    5    2    no   no    no   \n",
       "2    2.0        0.265        0.265     0.921875    2    2    no   no    no   \n",
       "3    3.0  0.372000008  0.247999992   0.92039801    1    2    no   no    no   \n",
       "4    4.0         0.32         0.25  0.860465116    1    2    no   no    no   \n",
       "..   ...          ...          ...          ...  ...  ...   ...  ...   ...   \n",
       "95  95.0  0.312000008  0.256000004  0.792207792    1    2    no   no   yes   \n",
       "96  96.0         0.33         0.31  0.580246914    1    2    no   no    no   \n",
       "97  97.0         0.32         0.31  0.636363636    2    2    no   no    no   \n",
       "98  98.0         0.38          0.3  0.876470588    2    1    no   no    no   \n",
       "99  99.0         0.32          0.2  0.796992481    1    2    no   no    no   \n",
       "\n",
       "        9            10           11     12    13  \n",
       "0   single         uria  comdominiom  black  deny  \n",
       "1       no  3.900000095            0     no    no  \n",
       "2      yes  3.200000048            0     no    no  \n",
       "3       no  3.200000048            0     no    no  \n",
       "4       no  4.300000191            0     no    no  \n",
       "..     ...          ...          ...    ...   ...  \n",
       "95      no  1.799999952            0     no    no  \n",
       "96     yes  4.300000191            1     no    no  \n",
       "97      no  3.200000048            0     no    no  \n",
       "98      no  10.60000038            0     no    no  \n",
       "99      no            2            0     no    no  \n",
       "\n",
       "[100 rows x 14 columns]"
      ]
     },
     "execution_count": 2,
     "metadata": {},
     "output_type": "execute_result"
    }
   ],
   "source": [
    "\n",
    "import pandas as pd\n",
    "import numpy as np\n",
    "import seaborn as sns\n",
    "import matplotlib.pyplot as plt\n",
    "\n",
    "# uploading data to pandas\n",
    "\n",
    "original_df = pd.read_csv('https://raw.githubusercontent.com/kuinkelarun/Quiz-Assignment-4/main/HDMA%20Boston%20Housing%20Data.csv', header=None)\n",
    "\n",
    "#prints few lines of the sample table including the deader \n",
    "\n",
    "original_df.head(100)\n",
    "# print(df.shape)"
   ]
  },
  {
   "cell_type": "markdown",
   "metadata": {},
   "source": [
    "### Assigning column names"
   ]
  },
  {
   "cell_type": "code",
   "execution_count": 3,
   "metadata": {},
   "outputs": [
    {
     "data": {
      "text/html": [
       "<div>\n",
       "<style scoped>\n",
       "    .dataframe tbody tr th:only-of-type {\n",
       "        vertical-align: middle;\n",
       "    }\n",
       "\n",
       "    .dataframe tbody tr th {\n",
       "        vertical-align: top;\n",
       "    }\n",
       "\n",
       "    .dataframe thead th {\n",
       "        text-align: right;\n",
       "    }\n",
       "</style>\n",
       "<table border=\"1\" class=\"dataframe\">\n",
       "  <thead>\n",
       "    <tr style=\"text-align: right;\">\n",
       "      <th></th>\n",
       "      <th>Applicant No.</th>\n",
       "      <th>Debt Pmt-Income Ratio</th>\n",
       "      <th>Housing Exp-Income Ratio</th>\n",
       "      <th>Loan-Prop Val Ratio</th>\n",
       "      <th>Cust Cr Score</th>\n",
       "      <th>Mtg Cr Score</th>\n",
       "      <th>Bad Cr Rec</th>\n",
       "      <th>Denied Mtg Ins</th>\n",
       "      <th>Self Emp</th>\n",
       "      <th>Single</th>\n",
       "      <th>URIA</th>\n",
       "      <th>Condo</th>\n",
       "      <th>Black</th>\n",
       "      <th>Deny</th>\n",
       "    </tr>\n",
       "  </thead>\n",
       "  <tbody>\n",
       "    <tr>\n",
       "      <th>1</th>\n",
       "      <td>1.0</td>\n",
       "      <td>0.221000004</td>\n",
       "      <td>0.221000004</td>\n",
       "      <td>0.8</td>\n",
       "      <td>5</td>\n",
       "      <td>2</td>\n",
       "      <td>no</td>\n",
       "      <td>no</td>\n",
       "      <td>no</td>\n",
       "      <td>no</td>\n",
       "      <td>3.900000095</td>\n",
       "      <td>0</td>\n",
       "      <td>no</td>\n",
       "      <td>no</td>\n",
       "    </tr>\n",
       "    <tr>\n",
       "      <th>2</th>\n",
       "      <td>2.0</td>\n",
       "      <td>0.265</td>\n",
       "      <td>0.265</td>\n",
       "      <td>0.921875</td>\n",
       "      <td>2</td>\n",
       "      <td>2</td>\n",
       "      <td>no</td>\n",
       "      <td>no</td>\n",
       "      <td>no</td>\n",
       "      <td>yes</td>\n",
       "      <td>3.200000048</td>\n",
       "      <td>0</td>\n",
       "      <td>no</td>\n",
       "      <td>no</td>\n",
       "    </tr>\n",
       "    <tr>\n",
       "      <th>3</th>\n",
       "      <td>3.0</td>\n",
       "      <td>0.372000008</td>\n",
       "      <td>0.247999992</td>\n",
       "      <td>0.92039801</td>\n",
       "      <td>1</td>\n",
       "      <td>2</td>\n",
       "      <td>no</td>\n",
       "      <td>no</td>\n",
       "      <td>no</td>\n",
       "      <td>no</td>\n",
       "      <td>3.200000048</td>\n",
       "      <td>0</td>\n",
       "      <td>no</td>\n",
       "      <td>no</td>\n",
       "    </tr>\n",
       "    <tr>\n",
       "      <th>4</th>\n",
       "      <td>4.0</td>\n",
       "      <td>0.32</td>\n",
       "      <td>0.25</td>\n",
       "      <td>0.860465116</td>\n",
       "      <td>1</td>\n",
       "      <td>2</td>\n",
       "      <td>no</td>\n",
       "      <td>no</td>\n",
       "      <td>no</td>\n",
       "      <td>no</td>\n",
       "      <td>4.300000191</td>\n",
       "      <td>0</td>\n",
       "      <td>no</td>\n",
       "      <td>no</td>\n",
       "    </tr>\n",
       "    <tr>\n",
       "      <th>5</th>\n",
       "      <td>5.0</td>\n",
       "      <td>0.36</td>\n",
       "      <td>0.35</td>\n",
       "      <td>0.6</td>\n",
       "      <td>1</td>\n",
       "      <td>1</td>\n",
       "      <td>no</td>\n",
       "      <td>no</td>\n",
       "      <td>no</td>\n",
       "      <td>no</td>\n",
       "      <td>3.200000048</td>\n",
       "      <td>0</td>\n",
       "      <td>no</td>\n",
       "      <td>no</td>\n",
       "    </tr>\n",
       "  </tbody>\n",
       "</table>\n",
       "</div>"
      ],
      "text/plain": [
       "   Applicant No. Debt Pmt-Income Ratio Housing Exp-Income Ratio  \\\n",
       "1            1.0           0.221000004              0.221000004   \n",
       "2            2.0                 0.265                    0.265   \n",
       "3            3.0           0.372000008              0.247999992   \n",
       "4            4.0                  0.32                     0.25   \n",
       "5            5.0                  0.36                     0.35   \n",
       "\n",
       "  Loan-Prop Val Ratio Cust Cr Score Mtg Cr Score Bad Cr Rec Denied Mtg Ins  \\\n",
       "1                 0.8             5            2         no             no   \n",
       "2            0.921875             2            2         no             no   \n",
       "3          0.92039801             1            2         no             no   \n",
       "4         0.860465116             1            2         no             no   \n",
       "5                 0.6             1            1         no             no   \n",
       "\n",
       "  Self Emp Single         URIA Condo Black Deny  \n",
       "1       no     no  3.900000095     0    no   no  \n",
       "2       no    yes  3.200000048     0    no   no  \n",
       "3       no     no  3.200000048     0    no   no  \n",
       "4       no     no  4.300000191     0    no   no  \n",
       "5       no     no  3.200000048     0    no   no  "
      ]
     },
     "execution_count": 3,
     "metadata": {},
     "output_type": "execute_result"
    }
   ],
   "source": [
    "# make a copy of data set to preserve oridigal data set\n",
    "df = original_df.copy()\n",
    "\n",
    "# drop first column at position 0\n",
    "df = df.drop(0)\n",
    "\n",
    "# assign meaningful column names\n",
    "df.columns = ['Applicant No.', 'Debt Pmt-Income Ratio', 'Housing Exp-Income Ratio', 'Loan-Prop Val Ratio', 'Cust Cr Score', 'Mtg Cr Score', 'Bad Cr Rec', 'Denied Mtg Ins', 'Self Emp', 'Single', 'URIA', 'Condo', 'Black', 'Deny']\n",
    "\n",
    "#sample display\n",
    "df.head()\n"
   ]
  },
  {
   "cell_type": "markdown",
   "metadata": {},
   "source": [
    "### Aim to achieve the following by the end of the analysis\n",
    "\n",
    "The goal of this project is to predict weather or not a given mortgage applicant is denied from getting a housing loan. There are several factors to consider, and the goal is to pick the attributes that are mostly influencial in determining the loan acceptance/deny and analyze them. The model that is going to be uses is \"Binary Logistic Regression Model\". \n",
    "\n",
    "Following steps will be taken to get predictions: \n",
    "\n",
    "- > Step - 1: Generating general statistics of the data\n",
    "- > Step - 2: Perform EDA on the given data, and present any preliminary pretictions\n",
    "- > Step - 3: Perform data preparation works, including any feature engineeging techniques if applied\n",
    "- > Step - 4: Perform another EDA after the complition of data preparation steps\n",
    "- > Step - 5: Present regression modeling works, and analyze them\n",
    "- > Step - 6: Explain model selection criteria, identify the preferred model, compare and contrast its performance with other models, and explain and analyze the result of your testing \n",
    "- > Step - 7: Conclusion of your analysis"
   ]
  },
  {
   "cell_type": "markdown",
   "metadata": {},
   "source": [
    "## Exploratory Data Analysis (EDA):"
   ]
  },
  {
   "cell_type": "markdown",
   "metadata": {},
   "source": [
    "#### Looking at preliminary statistics"
   ]
  },
  {
   "cell_type": "code",
   "execution_count": 4,
   "metadata": {},
   "outputs": [
    {
     "data": {
      "text/html": [
       "<div>\n",
       "<style scoped>\n",
       "    .dataframe tbody tr th:only-of-type {\n",
       "        vertical-align: middle;\n",
       "    }\n",
       "\n",
       "    .dataframe tbody tr th {\n",
       "        vertical-align: top;\n",
       "    }\n",
       "\n",
       "    .dataframe thead th {\n",
       "        text-align: right;\n",
       "    }\n",
       "</style>\n",
       "<table border=\"1\" class=\"dataframe\">\n",
       "  <thead>\n",
       "    <tr style=\"text-align: right;\">\n",
       "      <th></th>\n",
       "      <th>Applicant No.</th>\n",
       "    </tr>\n",
       "  </thead>\n",
       "  <tbody>\n",
       "    <tr>\n",
       "      <th>count</th>\n",
       "      <td>2381.000000</td>\n",
       "    </tr>\n",
       "    <tr>\n",
       "      <th>mean</th>\n",
       "      <td>1191.000000</td>\n",
       "    </tr>\n",
       "    <tr>\n",
       "      <th>std</th>\n",
       "      <td>687.479818</td>\n",
       "    </tr>\n",
       "    <tr>\n",
       "      <th>min</th>\n",
       "      <td>1.000000</td>\n",
       "    </tr>\n",
       "    <tr>\n",
       "      <th>25%</th>\n",
       "      <td>596.000000</td>\n",
       "    </tr>\n",
       "    <tr>\n",
       "      <th>50%</th>\n",
       "      <td>1191.000000</td>\n",
       "    </tr>\n",
       "    <tr>\n",
       "      <th>75%</th>\n",
       "      <td>1786.000000</td>\n",
       "    </tr>\n",
       "    <tr>\n",
       "      <th>max</th>\n",
       "      <td>2381.000000</td>\n",
       "    </tr>\n",
       "  </tbody>\n",
       "</table>\n",
       "</div>"
      ],
      "text/plain": [
       "       Applicant No.\n",
       "count    2381.000000\n",
       "mean     1191.000000\n",
       "std       687.479818\n",
       "min         1.000000\n",
       "25%       596.000000\n",
       "50%      1191.000000\n",
       "75%      1786.000000\n",
       "max      2381.000000"
      ]
     },
     "execution_count": 4,
     "metadata": {},
     "output_type": "execute_result"
    }
   ],
   "source": [
    "# getting a preliminary stat \n",
    "\n",
    "df.describe()"
   ]
  },
  {
   "cell_type": "markdown",
   "metadata": {},
   "source": [
    "Information obtained above does not give us much information on the data set. Lets move forward by checking the general information about the data set. "
   ]
  },
  {
   "cell_type": "code",
   "execution_count": 20,
   "metadata": {},
   "outputs": [
    {
     "name": "stdout",
     "output_type": "stream",
     "text": [
      "<class 'pandas.core.frame.DataFrame'>\n",
      "RangeIndex: 2381 entries, 1 to 2381\n",
      "Data columns (total 14 columns):\n",
      " #   Column                    Non-Null Count  Dtype  \n",
      "---  ------                    --------------  -----  \n",
      " 0   Applicant No.             2381 non-null   float64\n",
      " 1   Debt Pmt-Income Ratio     2381 non-null   object \n",
      " 2   Housing Exp-Income Ratio  2381 non-null   object \n",
      " 3   Loan-Prop Val Ratio       2381 non-null   object \n",
      " 4   Cust Cr Score             2381 non-null   object \n",
      " 5   Mtg Cr Score              2381 non-null   object \n",
      " 6   Bad Cr Rec                2380 non-null   object \n",
      " 7   Denied Mtg Ins            2381 non-null   object \n",
      " 8   Self Emp                  2380 non-null   object \n",
      " 9   Single                    2381 non-null   object \n",
      " 10  URIA                      2381 non-null   object \n",
      " 11  Condo                     2381 non-null   object \n",
      " 12  Black                     2381 non-null   object \n",
      " 13  Deny                      2381 non-null   object \n",
      "dtypes: float64(1), object(13)\n",
      "memory usage: 260.6+ KB\n"
     ]
    }
   ],
   "source": [
    "# getting general info\n",
    "\n",
    "df.info()"
   ]
  },
  {
   "cell_type": "markdown",
   "metadata": {},
   "source": [
    "After looking at the above information, besides the applicant number, every other data types are non numeric. Looking at different attributes and the data set generated earlier, there are many attributes which are numeric."
   ]
  },
  {
   "cell_type": "markdown",
   "metadata": {},
   "source": [
    "### Changing data types of the most obvious attributes\n",
    "\n",
    "The attributes Debt Pmt-Income Ratio, Housing Exp-Income Ratio, Loan-Prop Val Ratio, Cust Cr Score, Mtg Cr Score, URIA (unemployment rate in applicant's job industry), Condo are all of numeric data types. To gather some general stats of the data I believe it is best to change those data types from object to intiger, float or contineous depending on the attributes. \n",
    "\n"
   ]
  },
  {
   "cell_type": "code",
   "execution_count": 5,
   "metadata": {},
   "outputs": [],
   "source": [
    "# convert data types to_numeric\n",
    "\n",
    "df[['Debt Pmt-Income Ratio', 'Housing Exp-Income Ratio', 'Loan-Prop Val Ratio', 'Cust Cr Score', 'Mtg Cr Score', 'URIA', 'Condo']] = df[['Debt Pmt-Income Ratio', 'Housing Exp-Income Ratio', 'Loan-Prop Val Ratio', 'Cust Cr Score', 'Mtg Cr Score', 'URIA', 'Condo']].apply(pd.to_numeric)\n"
   ]
  },
  {
   "cell_type": "markdown",
   "metadata": {},
   "source": [
    "### Generating some histogram, barplots and box plots\n",
    "\n",
    "In this section we will try to identify some initial relationships of the attributes, and try to generate our preliminary analytics by discovering patterns, trends and outliers."
   ]
  },
  {
   "cell_type": "code",
   "execution_count": 39,
   "metadata": {},
   "outputs": [
    {
     "data": {
      "image/png": "[encoded data removed]",
      "text/plain": [
       "<Figure size 432x288 with 1 Axes>"
      ]
     },
     "metadata": {
      "needs_background": "light"
     },
     "output_type": "display_data"
    }
   ],
   "source": [
    "%matplotlib inline\n",
    "\n",
    "bplt = df['Cust Cr Score'].value_counts().plot.bar(title = \"Freq Dist of Customer Credit Score\")\n",
    "bplt;"
   ]
  },
  {
   "cell_type": "markdown",
   "metadata": {},
   "source": [
    "There are a lot more loan borrowers with higher credit score than that of lower credit scores. "
   ]
  },
  {
   "cell_type": "code",
   "execution_count": 25,
   "metadata": {},
   "outputs": [
    {
     "data": {
      "image/png": "[encoded data removed]",
      "text/plain": [
       "<Figure size 432x288 with 1 Axes>"
      ]
     },
     "metadata": {
      "needs_background": "light"
     },
     "output_type": "display_data"
    }
   ],
   "source": [
    "sns.barplot(x = 'Deny', y = 'Cust Cr Score', data = df)\n",
    "plt.show()"
   ]
  },
  {
   "cell_type": "markdown",
   "metadata": {},
   "source": [
    "Credit scores are rated between 1 - 6, 1 being the highest score. The above graph suggests that the individuals with higher credit score hare less likely to be denied."
   ]
  },
  {
   "cell_type": "code",
   "execution_count": 29,
   "metadata": {},
   "outputs": [
    {
     "data": {
      "image/png": "[encoded data removed]",
      "text/plain": [
       "<Figure size 432x288 with 1 Axes>"
      ]
     },
     "metadata": {
      "needs_background": "light"
     },
     "output_type": "display_data"
    }
   ],
   "source": [
    "sns.barplot(x = 'Deny', y = 'Loan-Prop Val Ratio', data = df)\n",
    "plt.show()"
   ]
  },
  {
   "cell_type": "markdown",
   "metadata": {},
   "source": [
    "Lower loan to property valuation ratio is slightly better for the loan acceptance. Loan to property valuation ratio can be lower if the applicant is willing to pay more in down payments. This will decrease the ratio of an applicant's loan-propp ration.  More you pay in downpayment, you are more likely to be accepted for the mortgage. "
   ]
  },
  {
   "cell_type": "code",
   "execution_count": 30,
   "metadata": {},
   "outputs": [
    {
     "data": {
      "text/plain": [
       "<AxesSubplot:xlabel='Black', ylabel='Count'>"
      ]
     },
     "execution_count": 30,
     "metadata": {},
     "output_type": "execute_result"
    },
    {
     "data": {
      "image/png": "[encoded data removed]",
      "text/plain": [
       "<Figure size 432x288 with 1 Axes>"
      ]
     },
     "metadata": {
      "needs_background": "light"
     },
     "output_type": "display_data"
    }
   ],
   "source": [
    "# histogram using seaburn\n",
    "\n",
    "sns.histplot(df['Black'])"
   ]
  },
  {
   "cell_type": "code",
   "execution_count": 43,
   "metadata": {},
   "outputs": [
    {
     "data": {
      "text/plain": [
       "<AxesSubplot:>"
      ]
     },
     "execution_count": 43,
     "metadata": {},
     "output_type": "execute_result"
    },
    {
     "data": {
      "image/png": "[encoded data removed]",
      "text/plain": [
       "<Figure size 432x288 with 1 Axes>"
      ]
     },
     "metadata": {
      "needs_background": "light"
     },
     "output_type": "display_data"
    }
   ],
   "source": [
    "# histogram using mathplotlib\n",
    "df[\"Black\"].hist()"
   ]
  },
  {
   "cell_type": "markdown",
   "metadata": {},
   "source": [
    "The number of black loan borrower is significantly lower than non black borrowers. "
   ]
  },
  {
   "cell_type": "code",
   "execution_count": 31,
   "metadata": {},
   "outputs": [
    {
     "data": {
      "text/plain": [
       "<AxesSubplot:xlabel='Deny', ylabel='Count'>"
      ]
     },
     "execution_count": 31,
     "metadata": {},
     "output_type": "execute_result"
    },
    {
     "data": {
      "image/png": "[encoded data removed]",
      "text/plain": [
       "<Figure size 432x288 with 1 Axes>"
      ]
     },
     "metadata": {
      "needs_background": "light"
     },
     "output_type": "display_data"
    }
   ],
   "source": [
    "sns.histplot(df['Deny'])"
   ]
  },
  {
   "cell_type": "markdown",
   "metadata": {},
   "source": [
    "The individuals who are denied loan are very few which is around 250. "
   ]
  },
  {
   "cell_type": "code",
   "execution_count": 42,
   "metadata": {},
   "outputs": [
    {
     "data": {
      "image/png": "[encoded data removed]",
      "text/plain": [
       "<Figure size 432x288 with 1 Axes>"
      ]
     },
     "metadata": {
      "needs_background": "light"
     },
     "output_type": "display_data"
    }
   ],
   "source": [
    "sns.barplot(x = 'Black', y = 'Cust Cr Score', data = df)\n",
    "plt.show()"
   ]
  },
  {
   "cell_type": "markdown",
   "metadata": {},
   "source": [
    "This diagram shows that there are more individual who identify themselves as \"Black\" have lower credit scores. Non black have higher credit score than that of those who identify themselves as \"Black\"."
   ]
  },
  {
   "cell_type": "code",
   "execution_count": 35,
   "metadata": {},
   "outputs": [
    {
     "data": {
      "image/png": "[encoded data removed]",
      "text/plain": [
       "<Figure size 432x288 with 1 Axes>"
      ]
     },
     "metadata": {
      "needs_background": "light"
     },
     "output_type": "display_data"
    }
   ],
   "source": [
    "sns.barplot(x = 'Deny', y = 'URIA', data = df)\n",
    "plt.show()"
   ]
  },
  {
   "cell_type": "markdown",
   "metadata": {},
   "source": [
    "The unemployment rate in the applicant's industry slightly impacts in denial of loan. Higher the URIA, chances of not getting the loan for housing is higher."
   ]
  },
  {
   "cell_type": "code",
   "execution_count": 38,
   "metadata": {},
   "outputs": [
    {
     "data": {
      "image/png": "[encoded data removed]",
      "text/plain": [
       "<Figure size 432x288 with 1 Axes>"
      ]
     },
     "metadata": {
      "needs_background": "light"
     },
     "output_type": "display_data"
    }
   ],
   "source": [
    "sns.barplot(x = 'Deny', y = 'Housing Exp-Income Ratio', data = df)\n",
    "plt.show()"
   ]
  },
  {
   "cell_type": "markdown",
   "metadata": {},
   "source": [
    "Housing expense to income ratio slightly impacts on loan acceptance/denial. Lower ratio means that the lower portion of household income goes into housing expenses, which seems to improve acceptance rate. "
   ]
  },
  {
   "cell_type": "code",
   "execution_count": 44,
   "metadata": {},
   "outputs": [
    {
     "data": {
      "text/html": [
       "<div>\n",
       "<style scoped>\n",
       "    .dataframe tbody tr th:only-of-type {\n",
       "        vertical-align: middle;\n",
       "    }\n",
       "\n",
       "    .dataframe tbody tr th {\n",
       "        vertical-align: top;\n",
       "    }\n",
       "\n",
       "    .dataframe thead th {\n",
       "        text-align: right;\n",
       "    }\n",
       "</style>\n",
       "<table border=\"1\" class=\"dataframe\">\n",
       "  <thead>\n",
       "    <tr style=\"text-align: right;\">\n",
       "      <th></th>\n",
       "      <th>Applicant No.</th>\n",
       "      <th>Debt Pmt-Income Ratio</th>\n",
       "      <th>Housing Exp-Income Ratio</th>\n",
       "      <th>Loan-Prop Val Ratio</th>\n",
       "      <th>Cust Cr Score</th>\n",
       "      <th>Mtg Cr Score</th>\n",
       "      <th>URIA</th>\n",
       "      <th>Condo</th>\n",
       "    </tr>\n",
       "  </thead>\n",
       "  <tbody>\n",
       "    <tr>\n",
       "      <th>count</th>\n",
       "      <td>2381.000000</td>\n",
       "      <td>2381.000000</td>\n",
       "      <td>2381.000000</td>\n",
       "      <td>2381.000000</td>\n",
       "      <td>2381.000000</td>\n",
       "      <td>2381.000000</td>\n",
       "      <td>2381.000000</td>\n",
       "      <td>2381.000000</td>\n",
       "    </tr>\n",
       "    <tr>\n",
       "      <th>mean</th>\n",
       "      <td>1191.000000</td>\n",
       "      <td>0.330814</td>\n",
       "      <td>0.255346</td>\n",
       "      <td>0.737760</td>\n",
       "      <td>2.116387</td>\n",
       "      <td>1.721008</td>\n",
       "      <td>3.774496</td>\n",
       "      <td>0.288114</td>\n",
       "    </tr>\n",
       "    <tr>\n",
       "      <th>std</th>\n",
       "      <td>687.479818</td>\n",
       "      <td>0.107235</td>\n",
       "      <td>0.096635</td>\n",
       "      <td>0.178715</td>\n",
       "      <td>1.666370</td>\n",
       "      <td>0.537169</td>\n",
       "      <td>2.026636</td>\n",
       "      <td>0.452980</td>\n",
       "    </tr>\n",
       "    <tr>\n",
       "      <th>min</th>\n",
       "      <td>1.000000</td>\n",
       "      <td>0.000000</td>\n",
       "      <td>0.000000</td>\n",
       "      <td>0.020000</td>\n",
       "      <td>1.000000</td>\n",
       "      <td>1.000000</td>\n",
       "      <td>1.800000</td>\n",
       "      <td>0.000000</td>\n",
       "    </tr>\n",
       "    <tr>\n",
       "      <th>25%</th>\n",
       "      <td>596.000000</td>\n",
       "      <td>0.280000</td>\n",
       "      <td>0.214000</td>\n",
       "      <td>0.652850</td>\n",
       "      <td>1.000000</td>\n",
       "      <td>1.000000</td>\n",
       "      <td>3.100000</td>\n",
       "      <td>0.000000</td>\n",
       "    </tr>\n",
       "    <tr>\n",
       "      <th>50%</th>\n",
       "      <td>1191.000000</td>\n",
       "      <td>0.330000</td>\n",
       "      <td>0.260000</td>\n",
       "      <td>0.779412</td>\n",
       "      <td>1.000000</td>\n",
       "      <td>2.000000</td>\n",
       "      <td>3.200000</td>\n",
       "      <td>0.000000</td>\n",
       "    </tr>\n",
       "    <tr>\n",
       "      <th>75%</th>\n",
       "      <td>1786.000000</td>\n",
       "      <td>0.370000</td>\n",
       "      <td>0.298800</td>\n",
       "      <td>0.868421</td>\n",
       "      <td>2.000000</td>\n",
       "      <td>2.000000</td>\n",
       "      <td>3.900000</td>\n",
       "      <td>1.000000</td>\n",
       "    </tr>\n",
       "    <tr>\n",
       "      <th>max</th>\n",
       "      <td>2381.000000</td>\n",
       "      <td>3.000000</td>\n",
       "      <td>3.000000</td>\n",
       "      <td>1.950000</td>\n",
       "      <td>6.000000</td>\n",
       "      <td>4.000000</td>\n",
       "      <td>10.600000</td>\n",
       "      <td>1.000000</td>\n",
       "    </tr>\n",
       "  </tbody>\n",
       "</table>\n",
       "</div>"
      ],
      "text/plain": [
       "       Applicant No.  Debt Pmt-Income Ratio  Housing Exp-Income Ratio  \\\n",
       "count    2381.000000            2381.000000               2381.000000   \n",
       "mean     1191.000000               0.330814                  0.255346   \n",
       "std       687.479818               0.107235                  0.096635   \n",
       "min         1.000000               0.000000                  0.000000   \n",
       "25%       596.000000               0.280000                  0.214000   \n",
       "50%      1191.000000               0.330000                  0.260000   \n",
       "75%      1786.000000               0.370000                  0.298800   \n",
       "max      2381.000000               3.000000                  3.000000   \n",
       "\n",
       "       Loan-Prop Val Ratio  Cust Cr Score  Mtg Cr Score         URIA  \\\n",
       "count          2381.000000    2381.000000   2381.000000  2381.000000   \n",
       "mean              0.737760       2.116387      1.721008     3.774496   \n",
       "std               0.178715       1.666370      0.537169     2.026636   \n",
       "min               0.020000       1.000000      1.000000     1.800000   \n",
       "25%               0.652850       1.000000      1.000000     3.100000   \n",
       "50%               0.779412       1.000000      2.000000     3.200000   \n",
       "75%               0.868421       2.000000      2.000000     3.900000   \n",
       "max               1.950000       6.000000      4.000000    10.600000   \n",
       "\n",
       "             Condo  \n",
       "count  2381.000000  \n",
       "mean      0.288114  \n",
       "std       0.452980  \n",
       "min       0.000000  \n",
       "25%       0.000000  \n",
       "50%       0.000000  \n",
       "75%       1.000000  \n",
       "max       1.000000  "
      ]
     },
     "execution_count": 44,
     "metadata": {},
     "output_type": "execute_result"
    }
   ],
   "source": [
    "# generating general ststistical data\n",
    "\n",
    "df.describe()"
   ]
  },
  {
   "cell_type": "code",
   "execution_count": 50,
   "metadata": {},
   "outputs": [
    {
     "data": {
      "text/plain": [
       "Index(['Bad Cr Rec', 'Self Emp'], dtype='object')"
      ]
     },
     "execution_count": 50,
     "metadata": {},
     "output_type": "execute_result"
    }
   ],
   "source": [
    "# checking for null values\n",
    "\n",
    "df.columns[df.isnull().any()]"
   ]
  },
  {
   "cell_type": "code",
   "execution_count": 63,
   "metadata": {},
   "outputs": [
    {
     "data": {
      "text/plain": [
       "array(['no', 'yes', nan], dtype=object)"
      ]
     },
     "execution_count": 63,
     "metadata": {},
     "output_type": "execute_result"
    }
   ],
   "source": [
    "#checking for unique values in al categorical data\n",
    "\n",
    "df['Bad Cr Rec'].unique() "
   ]
  },
  {
   "cell_type": "markdown",
   "metadata": {},
   "source": [
    "\"Bad Cr Rec\" has some nan values which will be taken care in the next section. Also checked all other categorical variables, and there are not any extra characters in any of the attributes besides some nan in \"Bad Cr Rec\" and \"Self Emp\". Now that we know, the only special care that we need is for NaN values, we can focus only for those on next section when we deal with cleaning data."
   ]
  },
  {
   "cell_type": "markdown",
   "metadata": {},
   "source": [
    "#### Some of the following can be said after looking at the stats: \n",
    "\n",
    "The average borrowers have credit score of 1, which is a very good score. \n",
    "\n",
    "Debt payment to income ration has minimum value of 0, which is very interesting number. This kind of number is possible only if there is an individual who has never borrowed any money in the past. This is something we should look at. \n",
    "\n",
    "If you have a house, housing expense in inevitable. Housing expense to income ratio has minimum value of 0, which is a highly unlikely number in my belief because someone who is applying for loan must have some sort of income and there is housing expense. The ration might be very small if the income is very high, but there has to be some sort of ratio. This attribute needs further analysis. \n"
   ]
  },
  {
   "cell_type": "markdown",
   "metadata": {},
   "source": [
    "### Finding outliers:"
   ]
  },
  {
   "cell_type": "markdown",
   "metadata": {},
   "source": [
    "Some of the things we identified during the general statistical analysis are as follows: \n",
    "\n",
    "Housing to Expense Ratio being zero (0), highly unlikely value. \n",
    "\n",
    "Applicants Debt Payment-Income Ratio being zero, another possible unlikely value. \n",
    "\n",
    "Some null values in \"Bad Cr Rec\" and \"Self Emp\" features. \n",
    "\n",
    "It is hard to draw effective conclusion on categorical attributes in this data set, which is why we will be transforming them into binary form so that we can analyze them more effectively or in more meaningful way.\n",
    "\n",
    "#### We will be looking at different ways to address these issues in the next section. "
   ]
  },
  {
   "cell_type": "markdown",
   "metadata": {},
   "source": [
    "### EDA Conclusion: \n",
    "\n",
    "The initial analysis suggests that the highest factor that impacts the acceptance/denial of a loan application of an individual is the customer credit score. \n",
    "\n",
    "Lower housing expense to income ratio is another positive indicator to loan acceptance.\n",
    "\n",
    "Lower loan to property valuation ratio also shows the sign of mortgage acceptance. \n",
    "\n",
    "Lower unemployment ratio in applicants job industry (URIA) also slightly impacts on loan acceptance/denial. Lower ratio the better.\n",
    "\n",
    "Another factor to consider for analysis is the race of an individual applicant. Whether or not an applicant being black impacted on mortgage denial, will be the part of analysis after we have performed some data cleaning and feature engineering adjustments. "
   ]
  },
  {
   "cell_type": "markdown",
   "metadata": {},
   "source": [
    "## Data Preparation: \n",
    "\n",
    "This section involves the steps taken to address data integrity, cleaning data, usability issues with the data identified in the EDA section. This section also include any featire engineering techniques that may be necessary to work with the data."
   ]
  },
  {
   "cell_type": "markdown",
   "metadata": {},
   "source": [
    "### Taking care of Nan values: "
   ]
  },
  {
   "cell_type": "code",
   "execution_count": 66,
   "metadata": {},
   "outputs": [
    {
     "data": {
      "text/plain": [
       "1"
      ]
     },
     "execution_count": 66,
     "metadata": {},
     "output_type": "execute_result"
    }
   ],
   "source": [
    "# checking the number of nan values \n",
    "df['Bad Cr Rec'].isna().sum()"
   ]
  },
  {
   "cell_type": "code",
   "execution_count": 149,
   "metadata": {},
   "outputs": [
    {
     "data": {
      "text/html": [
       "<div>\n",
       "<style scoped>\n",
       "    .dataframe tbody tr th:only-of-type {\n",
       "        vertical-align: middle;\n",
       "    }\n",
       "\n",
       "    .dataframe tbody tr th {\n",
       "        vertical-align: top;\n",
       "    }\n",
       "\n",
       "    .dataframe thead th {\n",
       "        text-align: right;\n",
       "    }\n",
       "</style>\n",
       "<table border=\"1\" class=\"dataframe\">\n",
       "  <thead>\n",
       "    <tr style=\"text-align: right;\">\n",
       "      <th></th>\n",
       "      <th>Applicant No.</th>\n",
       "      <th>Debt Pmt-Income Ratio</th>\n",
       "      <th>Housing Exp-Income Ratio</th>\n",
       "      <th>Loan-Prop Val Ratio</th>\n",
       "      <th>Cust Cr Score</th>\n",
       "      <th>Mtg Cr Score</th>\n",
       "      <th>Bad Cr Rec</th>\n",
       "      <th>Denied Mtg Ins</th>\n",
       "      <th>Self Emp</th>\n",
       "      <th>Single</th>\n",
       "      <th>URIA</th>\n",
       "      <th>Condo</th>\n",
       "      <th>Black</th>\n",
       "      <th>Deny</th>\n",
       "    </tr>\n",
       "  </thead>\n",
       "  <tbody>\n",
       "    <tr>\n",
       "      <th>2381</th>\n",
       "      <td>2381.0</td>\n",
       "      <td>0.330814</td>\n",
       "      <td>0.255346</td>\n",
       "      <td>0.700783</td>\n",
       "      <td>2.116387</td>\n",
       "      <td>1.721008</td>\n",
       "      <td>NaN</td>\n",
       "      <td>no</td>\n",
       "      <td>NaN</td>\n",
       "      <td>yes</td>\n",
       "      <td>3.774496</td>\n",
       "      <td>0</td>\n",
       "      <td>no</td>\n",
       "      <td>no</td>\n",
       "    </tr>\n",
       "  </tbody>\n",
       "</table>\n",
       "</div>"
      ],
      "text/plain": [
       "      Applicant No.  Debt Pmt-Income Ratio  Housing Exp-Income Ratio  \\\n",
       "2381         2381.0               0.330814                  0.255346   \n",
       "\n",
       "      Loan-Prop Val Ratio  Cust Cr Score  Mtg Cr Score Bad Cr Rec  \\\n",
       "2381             0.700783       2.116387      1.721008        NaN   \n",
       "\n",
       "     Denied Mtg Ins Self Emp Single      URIA  Condo Black Deny  \n",
       "2381             no      NaN    yes  3.774496      0    no   no  "
      ]
     },
     "execution_count": 149,
     "metadata": {},
     "output_type": "execute_result"
    }
   ],
   "source": [
    "# isolate the rows containing the null \"bad cr rec\" values\n",
    "\n",
    "df[df['Bad Cr Rec'].isnull()]\n"
   ]
  },
  {
   "cell_type": "code",
   "execution_count": 67,
   "metadata": {},
   "outputs": [
    {
     "data": {
      "text/plain": [
       "1"
      ]
     },
     "execution_count": 67,
     "metadata": {},
     "output_type": "execute_result"
    }
   ],
   "source": [
    "# checking the number of nan values \n",
    "df['Self Emp'].isna().sum()"
   ]
  },
  {
   "cell_type": "markdown",
   "metadata": {},
   "source": [
    "There are total of 2 nan values in out data set."
   ]
  },
  {
   "cell_type": "markdown",
   "metadata": {},
   "source": [
    "We have several ways to deal with nan values. We could simply replace them with 0, or we could replace them with mean, median, most_frequent or onstant in the case of numeric feature (attribute). As of this step through the process, we can remove the rows with NaN values, but we cannot replace them with any of the things we mentioned here because the attributes that has NaN values are categorical variables. \n",
    "\n",
    "We could replace them with forwardfill or backward fills too, also used for numerical data.\n",
    "\n",
    "But, because there is only one row with null value, it is best to remove that row for our categorical data. "
   ]
  },
  {
   "cell_type": "code",
   "execution_count": 68,
   "metadata": {},
   "outputs": [],
   "source": [
    "# copy df to new data frame\n",
    "new_df = df.copy()"
   ]
  },
  {
   "cell_type": "code",
   "execution_count": 71,
   "metadata": {},
   "outputs": [
    {
     "name": "stdout",
     "output_type": "stream",
     "text": [
      "(2380, 14)\n",
      "      Applicant No.  Debt Pmt-Income Ratio  Housing Exp-Income Ratio  \\\n",
      "1               1.0                  0.221                     0.221   \n",
      "2               2.0                  0.265                     0.265   \n",
      "3               3.0                  0.372                     0.248   \n",
      "4               4.0                  0.320                     0.250   \n",
      "5               5.0                  0.360                     0.350   \n",
      "...             ...                    ...                       ...   \n",
      "2376         2376.0                  0.310                     0.250   \n",
      "2377         2377.0                  0.300                     0.300   \n",
      "2378         2378.0                  0.260                     0.200   \n",
      "2379         2379.0                  0.320                     0.260   \n",
      "2380         2380.0                  0.350                     0.260   \n",
      "\n",
      "      Loan-Prop Val Ratio  Cust Cr Score  Mtg Cr Score Bad Cr Rec  \\\n",
      "1                0.800000            5.0           2.0         no   \n",
      "2                0.921875            2.0           2.0         no   \n",
      "3                0.920398            1.0           2.0         no   \n",
      "4                0.860465            1.0           2.0         no   \n",
      "5                0.600000            1.0           1.0         no   \n",
      "...                   ...            ...           ...        ...   \n",
      "2376             0.800000            1.0           1.0         no   \n",
      "2377             0.777049            1.0           2.0         no   \n",
      "2378             0.526761            2.0           1.0         no   \n",
      "2379             0.753846            6.0           1.0        yes   \n",
      "2380             0.813559            2.0           2.0         no   \n",
      "\n",
      "     Denied Mtg Ins Self Emp Single  URIA  Condo Black Deny  \n",
      "1                no       no     no   3.9      0    no   no  \n",
      "2                no       no    yes   3.2      0    no   no  \n",
      "3                no       no     no   3.2      0    no   no  \n",
      "4                no       no     no   4.3      0    no   no  \n",
      "5                no       no     no   3.2      0    no   no  \n",
      "...             ...      ...    ...   ...    ...   ...  ...  \n",
      "2376             no      yes     no   3.2      0    no   no  \n",
      "2377             no       no    yes   3.2      1    no   no  \n",
      "2378             no       no     no   3.1      0    no   no  \n",
      "2379             no       no    yes   3.1      1   yes  yes  \n",
      "2380             no       no    yes   4.3      1    no  yes  \n",
      "\n",
      "[2380 rows x 14 columns]\n"
     ]
    }
   ],
   "source": [
    "# taking only the rows where \"Bad Cr Rec\" and \"Self Emp\" is not NaN\n",
    "new_df = df[df['Bad Cr Rec'].notna()]\n",
    "new_df = df[df['Self Emp'].notna()]\n",
    "\n",
    "print(new_df.shape)\n",
    "print(new_df)\n"
   ]
  },
  {
   "cell_type": "code",
   "execution_count": 72,
   "metadata": {},
   "outputs": [
    {
     "data": {
      "text/plain": [
       "Index([], dtype='object')"
      ]
     },
     "execution_count": 72,
     "metadata": {},
     "output_type": "execute_result"
    }
   ],
   "source": [
    "# checking if there are still null values\n",
    "\n",
    "new_df.columns[new_df.isnull().any()]"
   ]
  },
  {
   "cell_type": "markdown",
   "metadata": {},
   "source": [
    "### Converting categorical data to binary data\n",
    "\n",
    "While looking at the categorical data in our data set, all of them are categorical features which answer yes/no type answers. Transforming these categorical data into binary form will give us more meaningful data to generate our analysis. \n",
    "\n",
    "Therefore, lets now convert our categorical data into binary form to make them more meaningful.\n",
    "\n",
    "Because our goal of the project is to find out if mortgage denial has anything to do with following three things: \n",
    "- relationship between custoer credit score and mortgage denial\n",
    "- relationship of individuals race (Black) and mortgage denial\n",
    "- relationship between bad credit record of an individual and mortgage denial\n",
    "\n",
    "Which is why we are only converting the features \"Black\", \"Bad Cr Rec\", and \"Deny\" into binary.\n"
   ]
  },
  {
   "cell_type": "code",
   "execution_count": 123,
   "metadata": {},
   "outputs": [],
   "source": [
    "# copy of new df to bin_df which will have binary values for categorical data\n",
    "bin_df = new_df.copy()\n",
    "bin_df = pd.DataFrame(bin_df)\n"
   ]
  },
  {
   "cell_type": "code",
   "execution_count": 124,
   "metadata": {},
   "outputs": [
    {
     "data": {
      "text/html": [
       "<div>\n",
       "<style scoped>\n",
       "    .dataframe tbody tr th:only-of-type {\n",
       "        vertical-align: middle;\n",
       "    }\n",
       "\n",
       "    .dataframe tbody tr th {\n",
       "        vertical-align: top;\n",
       "    }\n",
       "\n",
       "    .dataframe thead th {\n",
       "        text-align: right;\n",
       "    }\n",
       "</style>\n",
       "<table border=\"1\" class=\"dataframe\">\n",
       "  <thead>\n",
       "    <tr style=\"text-align: right;\">\n",
       "      <th></th>\n",
       "      <th>Applicant No.</th>\n",
       "      <th>Debt Pmt-Income Ratio</th>\n",
       "      <th>Housing Exp-Income Ratio</th>\n",
       "      <th>Loan-Prop Val Ratio</th>\n",
       "      <th>Cust Cr Score</th>\n",
       "      <th>Mtg Cr Score</th>\n",
       "      <th>Bad Cr Rec</th>\n",
       "      <th>Denied Mtg Ins</th>\n",
       "      <th>Self Emp</th>\n",
       "      <th>Single</th>\n",
       "      <th>URIA</th>\n",
       "      <th>Condo</th>\n",
       "      <th>Black</th>\n",
       "      <th>Deny</th>\n",
       "    </tr>\n",
       "  </thead>\n",
       "  <tbody>\n",
       "    <tr>\n",
       "      <th>1</th>\n",
       "      <td>1.0</td>\n",
       "      <td>0.221</td>\n",
       "      <td>0.221</td>\n",
       "      <td>0.800000</td>\n",
       "      <td>5.0</td>\n",
       "      <td>2.0</td>\n",
       "      <td>no</td>\n",
       "      <td>no</td>\n",
       "      <td>no</td>\n",
       "      <td>no</td>\n",
       "      <td>3.9</td>\n",
       "      <td>0</td>\n",
       "      <td>no</td>\n",
       "      <td>no</td>\n",
       "    </tr>\n",
       "    <tr>\n",
       "      <th>2</th>\n",
       "      <td>2.0</td>\n",
       "      <td>0.265</td>\n",
       "      <td>0.265</td>\n",
       "      <td>0.921875</td>\n",
       "      <td>2.0</td>\n",
       "      <td>2.0</td>\n",
       "      <td>no</td>\n",
       "      <td>no</td>\n",
       "      <td>no</td>\n",
       "      <td>yes</td>\n",
       "      <td>3.2</td>\n",
       "      <td>0</td>\n",
       "      <td>no</td>\n",
       "      <td>no</td>\n",
       "    </tr>\n",
       "    <tr>\n",
       "      <th>3</th>\n",
       "      <td>3.0</td>\n",
       "      <td>0.372</td>\n",
       "      <td>0.248</td>\n",
       "      <td>0.920398</td>\n",
       "      <td>1.0</td>\n",
       "      <td>2.0</td>\n",
       "      <td>no</td>\n",
       "      <td>no</td>\n",
       "      <td>no</td>\n",
       "      <td>no</td>\n",
       "      <td>3.2</td>\n",
       "      <td>0</td>\n",
       "      <td>no</td>\n",
       "      <td>no</td>\n",
       "    </tr>\n",
       "    <tr>\n",
       "      <th>4</th>\n",
       "      <td>4.0</td>\n",
       "      <td>0.320</td>\n",
       "      <td>0.250</td>\n",
       "      <td>0.860465</td>\n",
       "      <td>1.0</td>\n",
       "      <td>2.0</td>\n",
       "      <td>no</td>\n",
       "      <td>no</td>\n",
       "      <td>no</td>\n",
       "      <td>no</td>\n",
       "      <td>4.3</td>\n",
       "      <td>0</td>\n",
       "      <td>no</td>\n",
       "      <td>no</td>\n",
       "    </tr>\n",
       "    <tr>\n",
       "      <th>5</th>\n",
       "      <td>5.0</td>\n",
       "      <td>0.360</td>\n",
       "      <td>0.350</td>\n",
       "      <td>0.600000</td>\n",
       "      <td>1.0</td>\n",
       "      <td>1.0</td>\n",
       "      <td>no</td>\n",
       "      <td>no</td>\n",
       "      <td>no</td>\n",
       "      <td>no</td>\n",
       "      <td>3.2</td>\n",
       "      <td>0</td>\n",
       "      <td>no</td>\n",
       "      <td>no</td>\n",
       "    </tr>\n",
       "  </tbody>\n",
       "</table>\n",
       "</div>"
      ],
      "text/plain": [
       "   Applicant No.  Debt Pmt-Income Ratio  Housing Exp-Income Ratio  \\\n",
       "1            1.0                  0.221                     0.221   \n",
       "2            2.0                  0.265                     0.265   \n",
       "3            3.0                  0.372                     0.248   \n",
       "4            4.0                  0.320                     0.250   \n",
       "5            5.0                  0.360                     0.350   \n",
       "\n",
       "   Loan-Prop Val Ratio  Cust Cr Score  Mtg Cr Score Bad Cr Rec Denied Mtg Ins  \\\n",
       "1             0.800000            5.0           2.0         no             no   \n",
       "2             0.921875            2.0           2.0         no             no   \n",
       "3             0.920398            1.0           2.0         no             no   \n",
       "4             0.860465            1.0           2.0         no             no   \n",
       "5             0.600000            1.0           1.0         no             no   \n",
       "\n",
       "  Self Emp Single  URIA  Condo Black Deny  \n",
       "1       no     no   3.9      0    no   no  \n",
       "2       no    yes   3.2      0    no   no  \n",
       "3       no     no   3.2      0    no   no  \n",
       "4       no     no   4.3      0    no   no  \n",
       "5       no     no   3.2      0    no   no  "
      ]
     },
     "execution_count": 124,
     "metadata": {},
     "output_type": "execute_result"
    }
   ],
   "source": [
    "from sklearn import preprocessing\n",
    "\n",
    "bin_df.head()"
   ]
  },
  {
   "cell_type": "markdown",
   "metadata": {},
   "source": [
    "### Converting \"Black\" data into Binary\n",
    "\n",
    "The resulting display will mean: \n",
    "\n",
    "0 --> no\n",
    "\n",
    "1 --> yes"
   ]
  },
  {
   "cell_type": "code",
   "execution_count": 125,
   "metadata": {},
   "outputs": [
    {
     "data": {
      "text/html": [
       "<div>\n",
       "<style scoped>\n",
       "    .dataframe tbody tr th:only-of-type {\n",
       "        vertical-align: middle;\n",
       "    }\n",
       "\n",
       "    .dataframe tbody tr th {\n",
       "        vertical-align: top;\n",
       "    }\n",
       "\n",
       "    .dataframe thead th {\n",
       "        text-align: right;\n",
       "    }\n",
       "</style>\n",
       "<table border=\"1\" class=\"dataframe\">\n",
       "  <thead>\n",
       "    <tr style=\"text-align: right;\">\n",
       "      <th></th>\n",
       "      <th>no</th>\n",
       "      <th>yes</th>\n",
       "    </tr>\n",
       "  </thead>\n",
       "  <tbody>\n",
       "    <tr>\n",
       "      <th>1</th>\n",
       "      <td>1</td>\n",
       "      <td>0</td>\n",
       "    </tr>\n",
       "    <tr>\n",
       "      <th>2</th>\n",
       "      <td>1</td>\n",
       "      <td>0</td>\n",
       "    </tr>\n",
       "    <tr>\n",
       "      <th>3</th>\n",
       "      <td>1</td>\n",
       "      <td>0</td>\n",
       "    </tr>\n",
       "    <tr>\n",
       "      <th>4</th>\n",
       "      <td>1</td>\n",
       "      <td>0</td>\n",
       "    </tr>\n",
       "    <tr>\n",
       "      <th>5</th>\n",
       "      <td>1</td>\n",
       "      <td>0</td>\n",
       "    </tr>\n",
       "  </tbody>\n",
       "</table>\n",
       "</div>"
      ],
      "text/plain": [
       "   no  yes\n",
       "1   1    0\n",
       "2   1    0\n",
       "3   1    0\n",
       "4   1    0\n",
       "5   1    0"
      ]
     },
     "execution_count": 125,
     "metadata": {},
     "output_type": "execute_result"
    }
   ],
   "source": [
    "# use the Pandas get_dummies() function to automatically generate dummy\n",
    "# variables for each possible value of \"Black\"\n",
    "dummy_df1 = pd.get_dummies(bin_df['Black'])\n",
    "\n",
    "dummy_df1.head()"
   ]
  },
  {
   "cell_type": "markdown",
   "metadata": {},
   "source": [
    "We need incirporate this binary data into our orifinal data frame. We have two options going forward to deal with above output. (following definition taken from geekforgeeks.org: https://www.geeksforgeeks.org/how-to-convert-categorical-data-to-binary-data-in-python/)\n",
    "\n",
    "1. Add above output to bin_df -> Remove \"Single\" Column -> Remove \"no\" column(if we want \"yes\" = 1 and \"no\" = 0) -> Rename \"yes\" = Single -> Show Output of Conversion.\n",
    "\n",
    "2. Add above output to Dataframe -> Remove \"Single\" Column -> Remove \"yes\" column( if we want \"yes\" = 0 and \"no\" = 1) -> Rename \"no\" = Single -> Show Output of Conversion."
   ]
  },
  {
   "cell_type": "code",
   "execution_count": 126,
   "metadata": {},
   "outputs": [
    {
     "data": {
      "text/html": [
       "<div>\n",
       "<style scoped>\n",
       "    .dataframe tbody tr th:only-of-type {\n",
       "        vertical-align: middle;\n",
       "    }\n",
       "\n",
       "    .dataframe tbody tr th {\n",
       "        vertical-align: top;\n",
       "    }\n",
       "\n",
       "    .dataframe thead th {\n",
       "        text-align: right;\n",
       "    }\n",
       "</style>\n",
       "<table border=\"1\" class=\"dataframe\">\n",
       "  <thead>\n",
       "    <tr style=\"text-align: right;\">\n",
       "      <th></th>\n",
       "      <th>Black</th>\n",
       "      <th>Applicant No.</th>\n",
       "      <th>Debt Pmt-Income Ratio</th>\n",
       "      <th>Housing Exp-Income Ratio</th>\n",
       "      <th>Loan-Prop Val Ratio</th>\n",
       "      <th>Cust Cr Score</th>\n",
       "      <th>Mtg Cr Score</th>\n",
       "      <th>Bad Cr Rec</th>\n",
       "      <th>Denied Mtg Ins</th>\n",
       "      <th>Self Emp</th>\n",
       "      <th>Single</th>\n",
       "      <th>URIA</th>\n",
       "      <th>Condo</th>\n",
       "      <th>Deny</th>\n",
       "    </tr>\n",
       "  </thead>\n",
       "  <tbody>\n",
       "    <tr>\n",
       "      <th>1</th>\n",
       "      <td>0</td>\n",
       "      <td>1.0</td>\n",
       "      <td>0.221</td>\n",
       "      <td>0.221</td>\n",
       "      <td>0.800000</td>\n",
       "      <td>5.0</td>\n",
       "      <td>2.0</td>\n",
       "      <td>no</td>\n",
       "      <td>no</td>\n",
       "      <td>no</td>\n",
       "      <td>no</td>\n",
       "      <td>3.9</td>\n",
       "      <td>0</td>\n",
       "      <td>no</td>\n",
       "    </tr>\n",
       "    <tr>\n",
       "      <th>2</th>\n",
       "      <td>0</td>\n",
       "      <td>2.0</td>\n",
       "      <td>0.265</td>\n",
       "      <td>0.265</td>\n",
       "      <td>0.921875</td>\n",
       "      <td>2.0</td>\n",
       "      <td>2.0</td>\n",
       "      <td>no</td>\n",
       "      <td>no</td>\n",
       "      <td>no</td>\n",
       "      <td>yes</td>\n",
       "      <td>3.2</td>\n",
       "      <td>0</td>\n",
       "      <td>no</td>\n",
       "    </tr>\n",
       "    <tr>\n",
       "      <th>3</th>\n",
       "      <td>0</td>\n",
       "      <td>3.0</td>\n",
       "      <td>0.372</td>\n",
       "      <td>0.248</td>\n",
       "      <td>0.920398</td>\n",
       "      <td>1.0</td>\n",
       "      <td>2.0</td>\n",
       "      <td>no</td>\n",
       "      <td>no</td>\n",
       "      <td>no</td>\n",
       "      <td>no</td>\n",
       "      <td>3.2</td>\n",
       "      <td>0</td>\n",
       "      <td>no</td>\n",
       "    </tr>\n",
       "    <tr>\n",
       "      <th>4</th>\n",
       "      <td>0</td>\n",
       "      <td>4.0</td>\n",
       "      <td>0.320</td>\n",
       "      <td>0.250</td>\n",
       "      <td>0.860465</td>\n",
       "      <td>1.0</td>\n",
       "      <td>2.0</td>\n",
       "      <td>no</td>\n",
       "      <td>no</td>\n",
       "      <td>no</td>\n",
       "      <td>no</td>\n",
       "      <td>4.3</td>\n",
       "      <td>0</td>\n",
       "      <td>no</td>\n",
       "    </tr>\n",
       "    <tr>\n",
       "      <th>5</th>\n",
       "      <td>0</td>\n",
       "      <td>5.0</td>\n",
       "      <td>0.360</td>\n",
       "      <td>0.350</td>\n",
       "      <td>0.600000</td>\n",
       "      <td>1.0</td>\n",
       "      <td>1.0</td>\n",
       "      <td>no</td>\n",
       "      <td>no</td>\n",
       "      <td>no</td>\n",
       "      <td>no</td>\n",
       "      <td>3.2</td>\n",
       "      <td>0</td>\n",
       "      <td>no</td>\n",
       "    </tr>\n",
       "  </tbody>\n",
       "</table>\n",
       "</div>"
      ],
      "text/plain": [
       "   Black  Applicant No.  Debt Pmt-Income Ratio  Housing Exp-Income Ratio  \\\n",
       "1      0            1.0                  0.221                     0.221   \n",
       "2      0            2.0                  0.265                     0.265   \n",
       "3      0            3.0                  0.372                     0.248   \n",
       "4      0            4.0                  0.320                     0.250   \n",
       "5      0            5.0                  0.360                     0.350   \n",
       "\n",
       "   Loan-Prop Val Ratio  Cust Cr Score  Mtg Cr Score Bad Cr Rec Denied Mtg Ins  \\\n",
       "1             0.800000            5.0           2.0         no             no   \n",
       "2             0.921875            2.0           2.0         no             no   \n",
       "3             0.920398            1.0           2.0         no             no   \n",
       "4             0.860465            1.0           2.0         no             no   \n",
       "5             0.600000            1.0           1.0         no             no   \n",
       "\n",
       "  Self Emp Single  URIA  Condo Deny  \n",
       "1       no     no   3.9      0   no  \n",
       "2       no    yes   3.2      0   no  \n",
       "3       no     no   3.2      0   no  \n",
       "4       no     no   4.3      0   no  \n",
       "5       no     no   3.2      0   no  "
      ]
     },
     "execution_count": 126,
     "metadata": {},
     "output_type": "execute_result"
    }
   ],
   "source": [
    "# adding dummy_df1 to the original bin_df table along column\n",
    "dummy_df2 = pd.concat((dummy_df1, bin_df), axis=1)\n",
    "\n",
    "#dropping the column \"Single\" from dummy_df2 table\n",
    "dummy_df2 = dummy_df2.drop(['Black'], axis=1)\n",
    "\n",
    "#dropping the column \"yes\", which was added from dummy_df1 while concatination\n",
    "dummy_df2 = dummy_df2.drop(['no'], axis=1)\n",
    "\n",
    "# rename column \"no\" back to \"Single\", to maintain the same column names\n",
    "result_df = dummy_df2.rename(columns= {'yes': 'Black'})\n",
    "\n",
    "result_df.head()"
   ]
  },
  {
   "cell_type": "markdown",
   "metadata": {},
   "source": [
    "### Converting \"Bad Cr Rec\" data into Binary"
   ]
  },
  {
   "cell_type": "code",
   "execution_count": 127,
   "metadata": {},
   "outputs": [
    {
     "data": {
      "text/html": [
       "<div>\n",
       "<style scoped>\n",
       "    .dataframe tbody tr th:only-of-type {\n",
       "        vertical-align: middle;\n",
       "    }\n",
       "\n",
       "    .dataframe tbody tr th {\n",
       "        vertical-align: top;\n",
       "    }\n",
       "\n",
       "    .dataframe thead th {\n",
       "        text-align: right;\n",
       "    }\n",
       "</style>\n",
       "<table border=\"1\" class=\"dataframe\">\n",
       "  <thead>\n",
       "    <tr style=\"text-align: right;\">\n",
       "      <th></th>\n",
       "      <th>no</th>\n",
       "      <th>yes</th>\n",
       "    </tr>\n",
       "  </thead>\n",
       "  <tbody>\n",
       "    <tr>\n",
       "      <th>1</th>\n",
       "      <td>1</td>\n",
       "      <td>0</td>\n",
       "    </tr>\n",
       "    <tr>\n",
       "      <th>2</th>\n",
       "      <td>1</td>\n",
       "      <td>0</td>\n",
       "    </tr>\n",
       "    <tr>\n",
       "      <th>3</th>\n",
       "      <td>1</td>\n",
       "      <td>0</td>\n",
       "    </tr>\n",
       "    <tr>\n",
       "      <th>4</th>\n",
       "      <td>1</td>\n",
       "      <td>0</td>\n",
       "    </tr>\n",
       "    <tr>\n",
       "      <th>5</th>\n",
       "      <td>1</td>\n",
       "      <td>0</td>\n",
       "    </tr>\n",
       "  </tbody>\n",
       "</table>\n",
       "</div>"
      ],
      "text/plain": [
       "   no  yes\n",
       "1   1    0\n",
       "2   1    0\n",
       "3   1    0\n",
       "4   1    0\n",
       "5   1    0"
      ]
     },
     "execution_count": 127,
     "metadata": {},
     "output_type": "execute_result"
    }
   ],
   "source": [
    "# use the Pandas get_dummies() function to automatically generate dummy\n",
    "# variables for each possible value of \"Bad Cr Rec\"\n",
    "\n",
    "dummy_df1 = pd.get_dummies(result_df['Bad Cr Rec'])\n",
    "\n",
    "dummy_df1.head()"
   ]
  },
  {
   "cell_type": "code",
   "execution_count": 128,
   "metadata": {},
   "outputs": [
    {
     "data": {
      "text/html": [
       "<div>\n",
       "<style scoped>\n",
       "    .dataframe tbody tr th:only-of-type {\n",
       "        vertical-align: middle;\n",
       "    }\n",
       "\n",
       "    .dataframe tbody tr th {\n",
       "        vertical-align: top;\n",
       "    }\n",
       "\n",
       "    .dataframe thead th {\n",
       "        text-align: right;\n",
       "    }\n",
       "</style>\n",
       "<table border=\"1\" class=\"dataframe\">\n",
       "  <thead>\n",
       "    <tr style=\"text-align: right;\">\n",
       "      <th></th>\n",
       "      <th>Bad Cr Rec</th>\n",
       "      <th>Black</th>\n",
       "      <th>Applicant No.</th>\n",
       "      <th>Debt Pmt-Income Ratio</th>\n",
       "      <th>Housing Exp-Income Ratio</th>\n",
       "      <th>Loan-Prop Val Ratio</th>\n",
       "      <th>Cust Cr Score</th>\n",
       "      <th>Mtg Cr Score</th>\n",
       "      <th>Denied Mtg Ins</th>\n",
       "      <th>Self Emp</th>\n",
       "      <th>Single</th>\n",
       "      <th>URIA</th>\n",
       "      <th>Condo</th>\n",
       "      <th>Deny</th>\n",
       "    </tr>\n",
       "  </thead>\n",
       "  <tbody>\n",
       "    <tr>\n",
       "      <th>1</th>\n",
       "      <td>0</td>\n",
       "      <td>0</td>\n",
       "      <td>1.0</td>\n",
       "      <td>0.221</td>\n",
       "      <td>0.221</td>\n",
       "      <td>0.800000</td>\n",
       "      <td>5.0</td>\n",
       "      <td>2.0</td>\n",
       "      <td>no</td>\n",
       "      <td>no</td>\n",
       "      <td>no</td>\n",
       "      <td>3.9</td>\n",
       "      <td>0</td>\n",
       "      <td>no</td>\n",
       "    </tr>\n",
       "    <tr>\n",
       "      <th>2</th>\n",
       "      <td>0</td>\n",
       "      <td>0</td>\n",
       "      <td>2.0</td>\n",
       "      <td>0.265</td>\n",
       "      <td>0.265</td>\n",
       "      <td>0.921875</td>\n",
       "      <td>2.0</td>\n",
       "      <td>2.0</td>\n",
       "      <td>no</td>\n",
       "      <td>no</td>\n",
       "      <td>yes</td>\n",
       "      <td>3.2</td>\n",
       "      <td>0</td>\n",
       "      <td>no</td>\n",
       "    </tr>\n",
       "    <tr>\n",
       "      <th>3</th>\n",
       "      <td>0</td>\n",
       "      <td>0</td>\n",
       "      <td>3.0</td>\n",
       "      <td>0.372</td>\n",
       "      <td>0.248</td>\n",
       "      <td>0.920398</td>\n",
       "      <td>1.0</td>\n",
       "      <td>2.0</td>\n",
       "      <td>no</td>\n",
       "      <td>no</td>\n",
       "      <td>no</td>\n",
       "      <td>3.2</td>\n",
       "      <td>0</td>\n",
       "      <td>no</td>\n",
       "    </tr>\n",
       "    <tr>\n",
       "      <th>4</th>\n",
       "      <td>0</td>\n",
       "      <td>0</td>\n",
       "      <td>4.0</td>\n",
       "      <td>0.320</td>\n",
       "      <td>0.250</td>\n",
       "      <td>0.860465</td>\n",
       "      <td>1.0</td>\n",
       "      <td>2.0</td>\n",
       "      <td>no</td>\n",
       "      <td>no</td>\n",
       "      <td>no</td>\n",
       "      <td>4.3</td>\n",
       "      <td>0</td>\n",
       "      <td>no</td>\n",
       "    </tr>\n",
       "    <tr>\n",
       "      <th>5</th>\n",
       "      <td>0</td>\n",
       "      <td>0</td>\n",
       "      <td>5.0</td>\n",
       "      <td>0.360</td>\n",
       "      <td>0.350</td>\n",
       "      <td>0.600000</td>\n",
       "      <td>1.0</td>\n",
       "      <td>1.0</td>\n",
       "      <td>no</td>\n",
       "      <td>no</td>\n",
       "      <td>no</td>\n",
       "      <td>3.2</td>\n",
       "      <td>0</td>\n",
       "      <td>no</td>\n",
       "    </tr>\n",
       "  </tbody>\n",
       "</table>\n",
       "</div>"
      ],
      "text/plain": [
       "   Bad Cr Rec  Black  Applicant No.  Debt Pmt-Income Ratio  \\\n",
       "1           0      0            1.0                  0.221   \n",
       "2           0      0            2.0                  0.265   \n",
       "3           0      0            3.0                  0.372   \n",
       "4           0      0            4.0                  0.320   \n",
       "5           0      0            5.0                  0.360   \n",
       "\n",
       "   Housing Exp-Income Ratio  Loan-Prop Val Ratio  Cust Cr Score  Mtg Cr Score  \\\n",
       "1                     0.221             0.800000            5.0           2.0   \n",
       "2                     0.265             0.921875            2.0           2.0   \n",
       "3                     0.248             0.920398            1.0           2.0   \n",
       "4                     0.250             0.860465            1.0           2.0   \n",
       "5                     0.350             0.600000            1.0           1.0   \n",
       "\n",
       "  Denied Mtg Ins Self Emp Single  URIA  Condo Deny  \n",
       "1             no       no     no   3.9      0   no  \n",
       "2             no       no    yes   3.2      0   no  \n",
       "3             no       no     no   3.2      0   no  \n",
       "4             no       no     no   4.3      0   no  \n",
       "5             no       no     no   3.2      0   no  "
      ]
     },
     "execution_count": 128,
     "metadata": {},
     "output_type": "execute_result"
    }
   ],
   "source": [
    "# adding dummy_df1 to the original bin_df table along column\n",
    "dummy_df2 = pd.concat((dummy_df1, result_df), axis=1)\n",
    "\n",
    "#dropping the column \"Bad Cr Rec\" from dummy_df2 table\n",
    "dummy_df2 = dummy_df2.drop(['Bad Cr Rec'], axis=1)\n",
    "\n",
    "#dropping the column \"yes\", which was added from dummy_df1 while concatination\n",
    "dummy_df2 = dummy_df2.drop(['no'], axis=1)\n",
    "\n",
    "# rename column \"no\" back to \"Bad Cr Rec\", to maintain the same column names\n",
    "result_df = dummy_df2.rename(columns= {'yes': 'Bad Cr Rec'})\n",
    "\n",
    "result_df.head()"
   ]
  },
  {
   "cell_type": "markdown",
   "metadata": {},
   "source": [
    "### Converting \"Deny\" into Binary"
   ]
  },
  {
   "cell_type": "code",
   "execution_count": 129,
   "metadata": {},
   "outputs": [
    {
     "data": {
      "text/html": [
       "<div>\n",
       "<style scoped>\n",
       "    .dataframe tbody tr th:only-of-type {\n",
       "        vertical-align: middle;\n",
       "    }\n",
       "\n",
       "    .dataframe tbody tr th {\n",
       "        vertical-align: top;\n",
       "    }\n",
       "\n",
       "    .dataframe thead th {\n",
       "        text-align: right;\n",
       "    }\n",
       "</style>\n",
       "<table border=\"1\" class=\"dataframe\">\n",
       "  <thead>\n",
       "    <tr style=\"text-align: right;\">\n",
       "      <th></th>\n",
       "      <th>no</th>\n",
       "      <th>yes</th>\n",
       "    </tr>\n",
       "  </thead>\n",
       "  <tbody>\n",
       "    <tr>\n",
       "      <th>1</th>\n",
       "      <td>1</td>\n",
       "      <td>0</td>\n",
       "    </tr>\n",
       "    <tr>\n",
       "      <th>2</th>\n",
       "      <td>1</td>\n",
       "      <td>0</td>\n",
       "    </tr>\n",
       "    <tr>\n",
       "      <th>3</th>\n",
       "      <td>1</td>\n",
       "      <td>0</td>\n",
       "    </tr>\n",
       "    <tr>\n",
       "      <th>4</th>\n",
       "      <td>1</td>\n",
       "      <td>0</td>\n",
       "    </tr>\n",
       "    <tr>\n",
       "      <th>5</th>\n",
       "      <td>1</td>\n",
       "      <td>0</td>\n",
       "    </tr>\n",
       "  </tbody>\n",
       "</table>\n",
       "</div>"
      ],
      "text/plain": [
       "   no  yes\n",
       "1   1    0\n",
       "2   1    0\n",
       "3   1    0\n",
       "4   1    0\n",
       "5   1    0"
      ]
     },
     "execution_count": 129,
     "metadata": {},
     "output_type": "execute_result"
    }
   ],
   "source": [
    "# use the Pandas get_dummies() function to automatically generate dummy\n",
    "# variables for each possible value of \"Deny\"\n",
    "\n",
    "dummy_df1 = pd.get_dummies(result_df['Deny'])\n",
    "\n",
    "dummy_df1.head()"
   ]
  },
  {
   "cell_type": "code",
   "execution_count": 130,
   "metadata": {},
   "outputs": [
    {
     "data": {
      "text/html": [
       "<div>\n",
       "<style scoped>\n",
       "    .dataframe tbody tr th:only-of-type {\n",
       "        vertical-align: middle;\n",
       "    }\n",
       "\n",
       "    .dataframe tbody tr th {\n",
       "        vertical-align: top;\n",
       "    }\n",
       "\n",
       "    .dataframe thead th {\n",
       "        text-align: right;\n",
       "    }\n",
       "</style>\n",
       "<table border=\"1\" class=\"dataframe\">\n",
       "  <thead>\n",
       "    <tr style=\"text-align: right;\">\n",
       "      <th></th>\n",
       "      <th>Deny</th>\n",
       "      <th>Bad Cr Rec</th>\n",
       "      <th>Black</th>\n",
       "      <th>Applicant No.</th>\n",
       "      <th>Debt Pmt-Income Ratio</th>\n",
       "      <th>Housing Exp-Income Ratio</th>\n",
       "      <th>Loan-Prop Val Ratio</th>\n",
       "      <th>Cust Cr Score</th>\n",
       "      <th>Mtg Cr Score</th>\n",
       "      <th>Denied Mtg Ins</th>\n",
       "      <th>Self Emp</th>\n",
       "      <th>Single</th>\n",
       "      <th>URIA</th>\n",
       "      <th>Condo</th>\n",
       "    </tr>\n",
       "  </thead>\n",
       "  <tbody>\n",
       "    <tr>\n",
       "      <th>1</th>\n",
       "      <td>0</td>\n",
       "      <td>0</td>\n",
       "      <td>0</td>\n",
       "      <td>1.0</td>\n",
       "      <td>0.221</td>\n",
       "      <td>0.221</td>\n",
       "      <td>0.800000</td>\n",
       "      <td>5.0</td>\n",
       "      <td>2.0</td>\n",
       "      <td>no</td>\n",
       "      <td>no</td>\n",
       "      <td>no</td>\n",
       "      <td>3.9</td>\n",
       "      <td>0</td>\n",
       "    </tr>\n",
       "    <tr>\n",
       "      <th>2</th>\n",
       "      <td>0</td>\n",
       "      <td>0</td>\n",
       "      <td>0</td>\n",
       "      <td>2.0</td>\n",
       "      <td>0.265</td>\n",
       "      <td>0.265</td>\n",
       "      <td>0.921875</td>\n",
       "      <td>2.0</td>\n",
       "      <td>2.0</td>\n",
       "      <td>no</td>\n",
       "      <td>no</td>\n",
       "      <td>yes</td>\n",
       "      <td>3.2</td>\n",
       "      <td>0</td>\n",
       "    </tr>\n",
       "    <tr>\n",
       "      <th>3</th>\n",
       "      <td>0</td>\n",
       "      <td>0</td>\n",
       "      <td>0</td>\n",
       "      <td>3.0</td>\n",
       "      <td>0.372</td>\n",
       "      <td>0.248</td>\n",
       "      <td>0.920398</td>\n",
       "      <td>1.0</td>\n",
       "      <td>2.0</td>\n",
       "      <td>no</td>\n",
       "      <td>no</td>\n",
       "      <td>no</td>\n",
       "      <td>3.2</td>\n",
       "      <td>0</td>\n",
       "    </tr>\n",
       "    <tr>\n",
       "      <th>4</th>\n",
       "      <td>0</td>\n",
       "      <td>0</td>\n",
       "      <td>0</td>\n",
       "      <td>4.0</td>\n",
       "      <td>0.320</td>\n",
       "      <td>0.250</td>\n",
       "      <td>0.860465</td>\n",
       "      <td>1.0</td>\n",
       "      <td>2.0</td>\n",
       "      <td>no</td>\n",
       "      <td>no</td>\n",
       "      <td>no</td>\n",
       "      <td>4.3</td>\n",
       "      <td>0</td>\n",
       "    </tr>\n",
       "    <tr>\n",
       "      <th>5</th>\n",
       "      <td>0</td>\n",
       "      <td>0</td>\n",
       "      <td>0</td>\n",
       "      <td>5.0</td>\n",
       "      <td>0.360</td>\n",
       "      <td>0.350</td>\n",
       "      <td>0.600000</td>\n",
       "      <td>1.0</td>\n",
       "      <td>1.0</td>\n",
       "      <td>no</td>\n",
       "      <td>no</td>\n",
       "      <td>no</td>\n",
       "      <td>3.2</td>\n",
       "      <td>0</td>\n",
       "    </tr>\n",
       "  </tbody>\n",
       "</table>\n",
       "</div>"
      ],
      "text/plain": [
       "   Deny  Bad Cr Rec  Black  Applicant No.  Debt Pmt-Income Ratio  \\\n",
       "1     0           0      0            1.0                  0.221   \n",
       "2     0           0      0            2.0                  0.265   \n",
       "3     0           0      0            3.0                  0.372   \n",
       "4     0           0      0            4.0                  0.320   \n",
       "5     0           0      0            5.0                  0.360   \n",
       "\n",
       "   Housing Exp-Income Ratio  Loan-Prop Val Ratio  Cust Cr Score  Mtg Cr Score  \\\n",
       "1                     0.221             0.800000            5.0           2.0   \n",
       "2                     0.265             0.921875            2.0           2.0   \n",
       "3                     0.248             0.920398            1.0           2.0   \n",
       "4                     0.250             0.860465            1.0           2.0   \n",
       "5                     0.350             0.600000            1.0           1.0   \n",
       "\n",
       "  Denied Mtg Ins Self Emp Single  URIA  Condo  \n",
       "1             no       no     no   3.9      0  \n",
       "2             no       no    yes   3.2      0  \n",
       "3             no       no     no   3.2      0  \n",
       "4             no       no     no   4.3      0  \n",
       "5             no       no     no   3.2      0  "
      ]
     },
     "execution_count": 130,
     "metadata": {},
     "output_type": "execute_result"
    }
   ],
   "source": [
    "# adding dummy_df1 to the original bin_df table along column\n",
    "dummy_df2 = pd.concat((dummy_df1, result_df), axis=1)\n",
    "\n",
    "#dropping the column \"Deny\" from dummy_df2 table\n",
    "dummy_df2 = dummy_df2.drop(['Deny'], axis=1)\n",
    "\n",
    "#dropping the column \"yes\", which was added from dummy_df1 while concatination\n",
    "dummy_df2 = dummy_df2.drop(['no'], axis=1)\n",
    "\n",
    "# rename column \"no\" back to \"Deny\", to maintain the same column names\n",
    "result_df = dummy_df2.rename(columns= {'yes': 'Deny'})\n",
    "\n",
    "result_df.head()"
   ]
  },
  {
   "cell_type": "markdown",
   "metadata": {},
   "source": [
    "### Steps taken in this step\n",
    "\n",
    "- Dropped null values, because both 2 NaN values in the data set were in the same row, it also helps preserve data integrity\n",
    "- Converted three features deny, bad credit record and black into binary form, so we have better data to put into the machine learning algorithm\n",
    "- We used get_dummies method to binarize data\n",
    "\n",
    "#### What we didn't do in this step is\n",
    "- try to change outliers in features housing exp-income ratio, debt pmt-income ratio, for the following reason: \n",
    "\n",
    "Depending on our domain knowledge, and the direction we are headed in this project, we will be focusing on applicants credit scores, checking their race, checking in the applicant has bad credit record from the past. It is sensible to take those things into consideration as we are looking for some major cause of mortgage denial. "
   ]
  },
  {
   "cell_type": "markdown",
   "metadata": {},
   "source": [
    "## Prepped Data Review:\n",
    "\n",
    "We have new form of data, which was not there when we did our preliminary EDA and stats in the beginning of this section. Those new features are deny/acceptance of mortgage data in binarized form, along with other features such as bad credit record data of an individual applicant in a binary form and race of an applicant if they are black or non black.\n",
    "\n",
    "In this step of the process, we will try to re-create EDA, based on the new data that we have. We will try to contrast any changes from the previous analysis. We will also look at relationship bewtween some other features than the ones we did in our initial EDA work. "
   ]
  },
  {
   "cell_type": "code",
   "execution_count": 131,
   "metadata": {},
   "outputs": [
    {
     "data": {
      "text/html": [
       "<div>\n",
       "<style scoped>\n",
       "    .dataframe tbody tr th:only-of-type {\n",
       "        vertical-align: middle;\n",
       "    }\n",
       "\n",
       "    .dataframe tbody tr th {\n",
       "        vertical-align: top;\n",
       "    }\n",
       "\n",
       "    .dataframe thead th {\n",
       "        text-align: right;\n",
       "    }\n",
       "</style>\n",
       "<table border=\"1\" class=\"dataframe\">\n",
       "  <thead>\n",
       "    <tr style=\"text-align: right;\">\n",
       "      <th></th>\n",
       "      <th>Deny</th>\n",
       "      <th>Bad Cr Rec</th>\n",
       "      <th>Black</th>\n",
       "      <th>Applicant No.</th>\n",
       "      <th>Debt Pmt-Income Ratio</th>\n",
       "      <th>Housing Exp-Income Ratio</th>\n",
       "      <th>Loan-Prop Val Ratio</th>\n",
       "      <th>Cust Cr Score</th>\n",
       "      <th>Mtg Cr Score</th>\n",
       "      <th>Denied Mtg Ins</th>\n",
       "      <th>Self Emp</th>\n",
       "      <th>Single</th>\n",
       "      <th>URIA</th>\n",
       "      <th>Condo</th>\n",
       "    </tr>\n",
       "  </thead>\n",
       "  <tbody>\n",
       "    <tr>\n",
       "      <th>1</th>\n",
       "      <td>0</td>\n",
       "      <td>0</td>\n",
       "      <td>0</td>\n",
       "      <td>1.0</td>\n",
       "      <td>0.221</td>\n",
       "      <td>0.221</td>\n",
       "      <td>0.800000</td>\n",
       "      <td>5.0</td>\n",
       "      <td>2.0</td>\n",
       "      <td>no</td>\n",
       "      <td>no</td>\n",
       "      <td>no</td>\n",
       "      <td>3.9</td>\n",
       "      <td>0</td>\n",
       "    </tr>\n",
       "    <tr>\n",
       "      <th>2</th>\n",
       "      <td>0</td>\n",
       "      <td>0</td>\n",
       "      <td>0</td>\n",
       "      <td>2.0</td>\n",
       "      <td>0.265</td>\n",
       "      <td>0.265</td>\n",
       "      <td>0.921875</td>\n",
       "      <td>2.0</td>\n",
       "      <td>2.0</td>\n",
       "      <td>no</td>\n",
       "      <td>no</td>\n",
       "      <td>yes</td>\n",
       "      <td>3.2</td>\n",
       "      <td>0</td>\n",
       "    </tr>\n",
       "    <tr>\n",
       "      <th>3</th>\n",
       "      <td>0</td>\n",
       "      <td>0</td>\n",
       "      <td>0</td>\n",
       "      <td>3.0</td>\n",
       "      <td>0.372</td>\n",
       "      <td>0.248</td>\n",
       "      <td>0.920398</td>\n",
       "      <td>1.0</td>\n",
       "      <td>2.0</td>\n",
       "      <td>no</td>\n",
       "      <td>no</td>\n",
       "      <td>no</td>\n",
       "      <td>3.2</td>\n",
       "      <td>0</td>\n",
       "    </tr>\n",
       "    <tr>\n",
       "      <th>4</th>\n",
       "      <td>0</td>\n",
       "      <td>0</td>\n",
       "      <td>0</td>\n",
       "      <td>4.0</td>\n",
       "      <td>0.320</td>\n",
       "      <td>0.250</td>\n",
       "      <td>0.860465</td>\n",
       "      <td>1.0</td>\n",
       "      <td>2.0</td>\n",
       "      <td>no</td>\n",
       "      <td>no</td>\n",
       "      <td>no</td>\n",
       "      <td>4.3</td>\n",
       "      <td>0</td>\n",
       "    </tr>\n",
       "    <tr>\n",
       "      <th>5</th>\n",
       "      <td>0</td>\n",
       "      <td>0</td>\n",
       "      <td>0</td>\n",
       "      <td>5.0</td>\n",
       "      <td>0.360</td>\n",
       "      <td>0.350</td>\n",
       "      <td>0.600000</td>\n",
       "      <td>1.0</td>\n",
       "      <td>1.0</td>\n",
       "      <td>no</td>\n",
       "      <td>no</td>\n",
       "      <td>no</td>\n",
       "      <td>3.2</td>\n",
       "      <td>0</td>\n",
       "    </tr>\n",
       "  </tbody>\n",
       "</table>\n",
       "</div>"
      ],
      "text/plain": [
       "   Deny  Bad Cr Rec  Black  Applicant No.  Debt Pmt-Income Ratio  \\\n",
       "1     0           0      0            1.0                  0.221   \n",
       "2     0           0      0            2.0                  0.265   \n",
       "3     0           0      0            3.0                  0.372   \n",
       "4     0           0      0            4.0                  0.320   \n",
       "5     0           0      0            5.0                  0.360   \n",
       "\n",
       "   Housing Exp-Income Ratio  Loan-Prop Val Ratio  Cust Cr Score  Mtg Cr Score  \\\n",
       "1                     0.221             0.800000            5.0           2.0   \n",
       "2                     0.265             0.921875            2.0           2.0   \n",
       "3                     0.248             0.920398            1.0           2.0   \n",
       "4                     0.250             0.860465            1.0           2.0   \n",
       "5                     0.350             0.600000            1.0           1.0   \n",
       "\n",
       "  Denied Mtg Ins Self Emp Single  URIA  Condo  \n",
       "1             no       no     no   3.9      0  \n",
       "2             no       no    yes   3.2      0  \n",
       "3             no       no     no   3.2      0  \n",
       "4             no       no     no   4.3      0  \n",
       "5             no       no     no   3.2      0  "
      ]
     },
     "execution_count": 131,
     "metadata": {},
     "output_type": "execute_result"
    }
   ],
   "source": [
    "#copy result of previous step into new data frame\n",
    "\n",
    "prep_df = result_df.copy()\n",
    "prep_df.head()"
   ]
  },
  {
   "cell_type": "code",
   "execution_count": 132,
   "metadata": {},
   "outputs": [
    {
     "data": {
      "text/html": [
       "<div>\n",
       "<style scoped>\n",
       "    .dataframe tbody tr th:only-of-type {\n",
       "        vertical-align: middle;\n",
       "    }\n",
       "\n",
       "    .dataframe tbody tr th {\n",
       "        vertical-align: top;\n",
       "    }\n",
       "\n",
       "    .dataframe thead th {\n",
       "        text-align: right;\n",
       "    }\n",
       "</style>\n",
       "<table border=\"1\" class=\"dataframe\">\n",
       "  <thead>\n",
       "    <tr style=\"text-align: right;\">\n",
       "      <th></th>\n",
       "      <th>Deny</th>\n",
       "      <th>Bad Cr Rec</th>\n",
       "      <th>Black</th>\n",
       "      <th>Applicant No.</th>\n",
       "      <th>Debt Pmt-Income Ratio</th>\n",
       "      <th>Housing Exp-Income Ratio</th>\n",
       "      <th>Loan-Prop Val Ratio</th>\n",
       "      <th>Cust Cr Score</th>\n",
       "      <th>Mtg Cr Score</th>\n",
       "      <th>URIA</th>\n",
       "      <th>Condo</th>\n",
       "    </tr>\n",
       "  </thead>\n",
       "  <tbody>\n",
       "    <tr>\n",
       "      <th>count</th>\n",
       "      <td>2380.000000</td>\n",
       "      <td>2380.000000</td>\n",
       "      <td>2380.000000</td>\n",
       "      <td>2380.000000</td>\n",
       "      <td>2380.000000</td>\n",
       "      <td>2380.000000</td>\n",
       "      <td>2380.000000</td>\n",
       "      <td>2380.000000</td>\n",
       "      <td>2380.000000</td>\n",
       "      <td>2380.000000</td>\n",
       "      <td>2380.000000</td>\n",
       "    </tr>\n",
       "    <tr>\n",
       "      <th>mean</th>\n",
       "      <td>0.119748</td>\n",
       "      <td>0.073529</td>\n",
       "      <td>0.142437</td>\n",
       "      <td>1190.500000</td>\n",
       "      <td>0.330814</td>\n",
       "      <td>0.255346</td>\n",
       "      <td>0.737776</td>\n",
       "      <td>2.116387</td>\n",
       "      <td>1.721008</td>\n",
       "      <td>3.774496</td>\n",
       "      <td>0.288235</td>\n",
       "    </tr>\n",
       "    <tr>\n",
       "      <th>std</th>\n",
       "      <td>0.324735</td>\n",
       "      <td>0.261058</td>\n",
       "      <td>0.349571</td>\n",
       "      <td>687.191143</td>\n",
       "      <td>0.107257</td>\n",
       "      <td>0.096656</td>\n",
       "      <td>0.178751</td>\n",
       "      <td>1.666721</td>\n",
       "      <td>0.537282</td>\n",
       "      <td>2.027062</td>\n",
       "      <td>0.453036</td>\n",
       "    </tr>\n",
       "    <tr>\n",
       "      <th>min</th>\n",
       "      <td>0.000000</td>\n",
       "      <td>0.000000</td>\n",
       "      <td>0.000000</td>\n",
       "      <td>1.000000</td>\n",
       "      <td>0.000000</td>\n",
       "      <td>0.000000</td>\n",
       "      <td>0.020000</td>\n",
       "      <td>1.000000</td>\n",
       "      <td>1.000000</td>\n",
       "      <td>1.800000</td>\n",
       "      <td>0.000000</td>\n",
       "    </tr>\n",
       "    <tr>\n",
       "      <th>25%</th>\n",
       "      <td>0.000000</td>\n",
       "      <td>0.000000</td>\n",
       "      <td>0.000000</td>\n",
       "      <td>595.750000</td>\n",
       "      <td>0.280000</td>\n",
       "      <td>0.214000</td>\n",
       "      <td>0.652681</td>\n",
       "      <td>1.000000</td>\n",
       "      <td>1.000000</td>\n",
       "      <td>3.100000</td>\n",
       "      <td>0.000000</td>\n",
       "    </tr>\n",
       "    <tr>\n",
       "      <th>50%</th>\n",
       "      <td>0.000000</td>\n",
       "      <td>0.000000</td>\n",
       "      <td>0.000000</td>\n",
       "      <td>1190.500000</td>\n",
       "      <td>0.330000</td>\n",
       "      <td>0.260000</td>\n",
       "      <td>0.779536</td>\n",
       "      <td>1.000000</td>\n",
       "      <td>2.000000</td>\n",
       "      <td>3.200000</td>\n",
       "      <td>0.000000</td>\n",
       "    </tr>\n",
       "    <tr>\n",
       "      <th>75%</th>\n",
       "      <td>0.000000</td>\n",
       "      <td>0.000000</td>\n",
       "      <td>0.000000</td>\n",
       "      <td>1785.250000</td>\n",
       "      <td>0.370000</td>\n",
       "      <td>0.298825</td>\n",
       "      <td>0.868459</td>\n",
       "      <td>2.000000</td>\n",
       "      <td>2.000000</td>\n",
       "      <td>3.900000</td>\n",
       "      <td>1.000000</td>\n",
       "    </tr>\n",
       "    <tr>\n",
       "      <th>max</th>\n",
       "      <td>1.000000</td>\n",
       "      <td>1.000000</td>\n",
       "      <td>1.000000</td>\n",
       "      <td>2380.000000</td>\n",
       "      <td>3.000000</td>\n",
       "      <td>3.000000</td>\n",
       "      <td>1.950000</td>\n",
       "      <td>6.000000</td>\n",
       "      <td>4.000000</td>\n",
       "      <td>10.600000</td>\n",
       "      <td>1.000000</td>\n",
       "    </tr>\n",
       "  </tbody>\n",
       "</table>\n",
       "</div>"
      ],
      "text/plain": [
       "              Deny   Bad Cr Rec        Black  Applicant No.  \\\n",
       "count  2380.000000  2380.000000  2380.000000    2380.000000   \n",
       "mean      0.119748     0.073529     0.142437    1190.500000   \n",
       "std       0.324735     0.261058     0.349571     687.191143   \n",
       "min       0.000000     0.000000     0.000000       1.000000   \n",
       "25%       0.000000     0.000000     0.000000     595.750000   \n",
       "50%       0.000000     0.000000     0.000000    1190.500000   \n",
       "75%       0.000000     0.000000     0.000000    1785.250000   \n",
       "max       1.000000     1.000000     1.000000    2380.000000   \n",
       "\n",
       "       Debt Pmt-Income Ratio  Housing Exp-Income Ratio  Loan-Prop Val Ratio  \\\n",
       "count            2380.000000               2380.000000          2380.000000   \n",
       "mean                0.330814                  0.255346             0.737776   \n",
       "std                 0.107257                  0.096656             0.178751   \n",
       "min                 0.000000                  0.000000             0.020000   \n",
       "25%                 0.280000                  0.214000             0.652681   \n",
       "50%                 0.330000                  0.260000             0.779536   \n",
       "75%                 0.370000                  0.298825             0.868459   \n",
       "max                 3.000000                  3.000000             1.950000   \n",
       "\n",
       "       Cust Cr Score  Mtg Cr Score         URIA        Condo  \n",
       "count    2380.000000   2380.000000  2380.000000  2380.000000  \n",
       "mean        2.116387      1.721008     3.774496     0.288235  \n",
       "std         1.666721      0.537282     2.027062     0.453036  \n",
       "min         1.000000      1.000000     1.800000     0.000000  \n",
       "25%         1.000000      1.000000     3.100000     0.000000  \n",
       "50%         1.000000      2.000000     3.200000     0.000000  \n",
       "75%         2.000000      2.000000     3.900000     1.000000  \n",
       "max         6.000000      4.000000    10.600000     1.000000  "
      ]
     },
     "execution_count": 132,
     "metadata": {},
     "output_type": "execute_result"
    }
   ],
   "source": [
    "prep_df.describe()"
   ]
  },
  {
   "cell_type": "code",
   "execution_count": 135,
   "metadata": {},
   "outputs": [
    {
     "data": {
      "image/png": "[encoded data removed]",
      "text/plain": [
       "<Figure size 432x288 with 1 Axes>"
      ]
     },
     "metadata": {
      "needs_background": "light"
     },
     "output_type": "display_data"
    }
   ],
   "source": [
    "%matplotlib inline\n",
    "\n",
    "bplt = prep_df['Deny'].value_counts().plot.bar(title = \"Freq Dist of Customer Denied of Mortgage\")\n",
    "bplt;"
   ]
  },
  {
   "cell_type": "markdown",
   "metadata": {},
   "source": [
    "Very few customers are denied of mortgage."
   ]
  },
  {
   "cell_type": "code",
   "execution_count": 136,
   "metadata": {},
   "outputs": [
    {
     "data": {
      "image/png": "[encoded data removed]",
      "text/plain": [
       "<Figure size 432x288 with 1 Axes>"
      ]
     },
     "metadata": {
      "needs_background": "light"
     },
     "output_type": "display_data"
    }
   ],
   "source": [
    "sns.barplot(x = 'Deny', y = 'Cust Cr Score', data = prep_df)\n",
    "plt.show()"
   ]
  },
  {
   "cell_type": "markdown",
   "metadata": {},
   "source": [
    "Credit score and denial of loan are highly related to each other."
   ]
  },
  {
   "cell_type": "code",
   "execution_count": 147,
   "metadata": {},
   "outputs": [
    {
     "data": {
      "text/plain": [
       "Text(0, 0.5, 'Frequency')"
      ]
     },
     "execution_count": 147,
     "metadata": {},
     "output_type": "execute_result"
    },
    {
     "data": {
      "image/png": "[encoded data removed]",
      "text/plain": [
       "<Figure size 432x288 with 1 Axes>"
      ]
     },
     "metadata": {
      "needs_background": "light"
     },
     "output_type": "display_data"
    }
   ],
   "source": [
    "# barplot of Bad Cr Rec grouped by Deny of Mortgage (True or False)\n",
    "\n",
    "pd.crosstab(prep_df['Bad Cr Rec'], prep_df['Deny'].astype(bool)).plot(kind='bar')\n",
    "plt.title('Black Score Distribution by Deny')\n",
    "plt.xlabel('Bad Cr Rec')\n",
    "plt.ylabel('Frequency')\n"
   ]
  },
  {
   "cell_type": "markdown",
   "metadata": {},
   "source": [
    "This graph shows that, customer with good credit record have higher chances of securing mortgage. "
   ]
  },
  {
   "cell_type": "code",
   "execution_count": 148,
   "metadata": {},
   "outputs": [
    {
     "data": {
      "text/plain": [
       "Text(0, 0.5, 'Frequency')"
      ]
     },
     "execution_count": 148,
     "metadata": {},
     "output_type": "execute_result"
    },
    {
     "data": {
      "image/png": "[encoded data removed]",
      "text/plain": [
       "<Figure size 432x288 with 1 Axes>"
      ]
     },
     "metadata": {
      "needs_background": "light"
     },
     "output_type": "display_data"
    }
   ],
   "source": [
    "# barplot of Customer Cr Score grouped by Deny of Mortgage (True or False)\n",
    "\n",
    "pd.crosstab(prep_df['Cust Cr Score'], prep_df['Deny'].astype(bool)).plot(kind='bar')\n",
    "plt.title('Customer Cr Score Distribution by Deny')\n",
    "plt.xlabel('Customer Cr Score')\n",
    "plt.ylabel('Frequency')"
   ]
  },
  {
   "cell_type": "markdown",
   "metadata": {},
   "source": [
    "This graph shows us that lower the customer credit score, more the applicants are denied of mortgage. "
   ]
  },
  {
   "cell_type": "code",
   "execution_count": 143,
   "metadata": {},
   "outputs": [
    {
     "data": {
      "text/plain": [
       "<AxesSubplot:>"
      ]
     },
     "execution_count": 143,
     "metadata": {},
     "output_type": "execute_result"
    },
    {
     "data": {
      "image/png": "[encoded data removed]",
      "text/plain": [
       "<Figure size 720x720 with 2 Axes>"
      ]
     },
     "metadata": {
      "needs_background": "light"
     },
     "output_type": "display_data"
    }
   ],
   "source": [
    "# Correlation Map of our NON-CATEGORICAL DATA\n",
    "\n",
    "corr = prep_df.corr()\n",
    "plt.figure(figsize=(10,10))\n",
    "sns.heatmap(data=corr, square=True , annot=True, cbar=True)"
   ]
  },
  {
   "cell_type": "markdown",
   "metadata": {},
   "source": [
    "### Second EDA Conclusion\n",
    "\n",
    "Depending upon the corelation matrix graph, we can simply drop some of the following which have wither very high corelation ratio or very low. \n",
    "\n",
    "We are comparint each variable with \"Deny\". If we were to drop anything less than 0.2 and more than 0.7, following would be the ones to be dropped:\n",
    "- Condo: 0.04\n",
    "- Debt payment to income ratio: 0.2\n",
    "- Housing Exp to income ratio: 0.13\n",
    "- Loan to property valuation ratio: 0.16\n",
    "- Mortgage creedit score: 0.11\n",
    "- Applicants job industry's unemployment rate: 0.044\n",
    "\n",
    "Our initial estimation of features to be selected for analysis seem to make sense depending upon this graph of corelation. We are left with Bad Credit Score, race \"Black\", Credit Score as very high factor for mortgage denial. "
   ]
  },
  {
   "cell_type": "markdown",
   "metadata": {},
   "source": [
    "## Regression Modeling: \n",
    "\n",
    "In this step we will be doing the following things with our data: \n",
    "- we will include our feature selection technique. \n",
    "- present our regression modeling work\n",
    "- interpretation of the coefficients of the models generated\n",
    "- analyze them to see if they make sense"
   ]
  },
  {
   "cell_type": "markdown",
   "metadata": {},
   "source": [
    "### Feature Selection\n",
    "\n",
    "If I were to pick any 3 features, depending on my domain knowledge and what the EDA suggests, I would select the following 3 features: \n",
    "- Bad credit record\n",
    "- Customer credit score\n",
    "- Black\n",
    "\n",
    "However, lets employ a feature selection model and see if my intuition makes sensse or not. "
   ]
  },
  {
   "cell_type": "markdown",
   "metadata": {},
   "source": [
    "#### K-Best with an F-Regression\n",
    "\n",
    "An F-test is any statistical test in which the test statistic has an F-distribution under the null hypothesis. It is most often used when comparing statistical models that have been fitted to a data set, in order to identify the model that best fits the population from which the data were sampled. (Wiki)"
   ]
  },
  {
   "cell_type": "code",
   "execution_count": 150,
   "metadata": {},
   "outputs": [
    {
     "data": {
      "text/html": [
       "<div>\n",
       "<style scoped>\n",
       "    .dataframe tbody tr th:only-of-type {\n",
       "        vertical-align: middle;\n",
       "    }\n",
       "\n",
       "    .dataframe tbody tr th {\n",
       "        vertical-align: top;\n",
       "    }\n",
       "\n",
       "    .dataframe thead th {\n",
       "        text-align: right;\n",
       "    }\n",
       "</style>\n",
       "<table border=\"1\" class=\"dataframe\">\n",
       "  <thead>\n",
       "    <tr style=\"text-align: right;\">\n",
       "      <th></th>\n",
       "      <th>Deny</th>\n",
       "      <th>Bad Cr Rec</th>\n",
       "      <th>Black</th>\n",
       "      <th>Applicant No.</th>\n",
       "      <th>Debt Pmt-Income Ratio</th>\n",
       "      <th>Housing Exp-Income Ratio</th>\n",
       "      <th>Loan-Prop Val Ratio</th>\n",
       "      <th>Cust Cr Score</th>\n",
       "      <th>Mtg Cr Score</th>\n",
       "      <th>Denied Mtg Ins</th>\n",
       "      <th>Self Emp</th>\n",
       "      <th>Single</th>\n",
       "      <th>URIA</th>\n",
       "      <th>Condo</th>\n",
       "    </tr>\n",
       "  </thead>\n",
       "  <tbody>\n",
       "    <tr>\n",
       "      <th>1</th>\n",
       "      <td>0</td>\n",
       "      <td>0</td>\n",
       "      <td>0</td>\n",
       "      <td>1.0</td>\n",
       "      <td>0.221</td>\n",
       "      <td>0.221</td>\n",
       "      <td>0.800000</td>\n",
       "      <td>5.0</td>\n",
       "      <td>2.0</td>\n",
       "      <td>no</td>\n",
       "      <td>no</td>\n",
       "      <td>no</td>\n",
       "      <td>3.9</td>\n",
       "      <td>0</td>\n",
       "    </tr>\n",
       "    <tr>\n",
       "      <th>2</th>\n",
       "      <td>0</td>\n",
       "      <td>0</td>\n",
       "      <td>0</td>\n",
       "      <td>2.0</td>\n",
       "      <td>0.265</td>\n",
       "      <td>0.265</td>\n",
       "      <td>0.921875</td>\n",
       "      <td>2.0</td>\n",
       "      <td>2.0</td>\n",
       "      <td>no</td>\n",
       "      <td>no</td>\n",
       "      <td>yes</td>\n",
       "      <td>3.2</td>\n",
       "      <td>0</td>\n",
       "    </tr>\n",
       "    <tr>\n",
       "      <th>3</th>\n",
       "      <td>0</td>\n",
       "      <td>0</td>\n",
       "      <td>0</td>\n",
       "      <td>3.0</td>\n",
       "      <td>0.372</td>\n",
       "      <td>0.248</td>\n",
       "      <td>0.920398</td>\n",
       "      <td>1.0</td>\n",
       "      <td>2.0</td>\n",
       "      <td>no</td>\n",
       "      <td>no</td>\n",
       "      <td>no</td>\n",
       "      <td>3.2</td>\n",
       "      <td>0</td>\n",
       "    </tr>\n",
       "    <tr>\n",
       "      <th>4</th>\n",
       "      <td>0</td>\n",
       "      <td>0</td>\n",
       "      <td>0</td>\n",
       "      <td>4.0</td>\n",
       "      <td>0.320</td>\n",
       "      <td>0.250</td>\n",
       "      <td>0.860465</td>\n",
       "      <td>1.0</td>\n",
       "      <td>2.0</td>\n",
       "      <td>no</td>\n",
       "      <td>no</td>\n",
       "      <td>no</td>\n",
       "      <td>4.3</td>\n",
       "      <td>0</td>\n",
       "    </tr>\n",
       "    <tr>\n",
       "      <th>5</th>\n",
       "      <td>0</td>\n",
       "      <td>0</td>\n",
       "      <td>0</td>\n",
       "      <td>5.0</td>\n",
       "      <td>0.360</td>\n",
       "      <td>0.350</td>\n",
       "      <td>0.600000</td>\n",
       "      <td>1.0</td>\n",
       "      <td>1.0</td>\n",
       "      <td>no</td>\n",
       "      <td>no</td>\n",
       "      <td>no</td>\n",
       "      <td>3.2</td>\n",
       "      <td>0</td>\n",
       "    </tr>\n",
       "  </tbody>\n",
       "</table>\n",
       "</div>"
      ],
      "text/plain": [
       "   Deny  Bad Cr Rec  Black  Applicant No.  Debt Pmt-Income Ratio  \\\n",
       "1     0           0      0            1.0                  0.221   \n",
       "2     0           0      0            2.0                  0.265   \n",
       "3     0           0      0            3.0                  0.372   \n",
       "4     0           0      0            4.0                  0.320   \n",
       "5     0           0      0            5.0                  0.360   \n",
       "\n",
       "   Housing Exp-Income Ratio  Loan-Prop Val Ratio  Cust Cr Score  Mtg Cr Score  \\\n",
       "1                     0.221             0.800000            5.0           2.0   \n",
       "2                     0.265             0.921875            2.0           2.0   \n",
       "3                     0.248             0.920398            1.0           2.0   \n",
       "4                     0.250             0.860465            1.0           2.0   \n",
       "5                     0.350             0.600000            1.0           1.0   \n",
       "\n",
       "  Denied Mtg Ins Self Emp Single  URIA  Condo  \n",
       "1             no       no     no   3.9      0  \n",
       "2             no       no    yes   3.2      0  \n",
       "3             no       no     no   3.2      0  \n",
       "4             no       no     no   4.3      0  \n",
       "5             no       no     no   3.2      0  "
      ]
     },
     "execution_count": 150,
     "metadata": {},
     "output_type": "execute_result"
    }
   ],
   "source": [
    "# making sure the data looks fine before moving on with feature selection\n",
    "prep_df.head()"
   ]
  },
  {
   "cell_type": "markdown",
   "metadata": {},
   "source": [
    "#### Selecting numeric columns: "
   ]
  },
  {
   "cell_type": "code",
   "execution_count": 151,
   "metadata": {},
   "outputs": [
    {
     "name": "stdout",
     "output_type": "stream",
     "text": [
      "<class 'pandas.core.frame.DataFrame'>\n",
      "Int64Index: 2380 entries, 1 to 2380\n",
      "Data columns (total 14 columns):\n",
      " #   Column                    Non-Null Count  Dtype  \n",
      "---  ------                    --------------  -----  \n",
      " 0   Deny                      2380 non-null   uint8  \n",
      " 1   Bad Cr Rec                2380 non-null   uint8  \n",
      " 2   Black                     2380 non-null   uint8  \n",
      " 3   Applicant No.             2380 non-null   float64\n",
      " 4   Debt Pmt-Income Ratio     2380 non-null   float64\n",
      " 5   Housing Exp-Income Ratio  2380 non-null   float64\n",
      " 6   Loan-Prop Val Ratio       2380 non-null   float64\n",
      " 7   Cust Cr Score             2380 non-null   float64\n",
      " 8   Mtg Cr Score              2380 non-null   float64\n",
      " 9   Denied Mtg Ins            2380 non-null   object \n",
      " 10  Self Emp                  2380 non-null   object \n",
      " 11  Single                    2380 non-null   object \n",
      " 12  URIA                      2380 non-null   float64\n",
      " 13  Condo                     2380 non-null   int64  \n",
      "dtypes: float64(7), int64(1), object(3), uint8(3)\n",
      "memory usage: 230.1+ KB\n"
     ]
    }
   ],
   "source": [
    "prep_df.info()"
   ]
  },
  {
   "cell_type": "code",
   "execution_count": 152,
   "metadata": {},
   "outputs": [
    {
     "name": "stdout",
     "output_type": "stream",
     "text": [
      "['Deny', 'Bad Cr Rec', 'Black', 'Applicant No.', 'Debt Pmt-Income Ratio', 'Housing Exp-Income Ratio', 'Loan-Prop Val Ratio', 'Cust Cr Score', 'Mtg Cr Score', 'URIA', 'Condo']\n"
     ]
    }
   ],
   "source": [
    "#check the numeric columns\n",
    "\n",
    "numeric_columns = list(prep_df.select_dtypes(include=['float64','int64', 'uint8']).columns)\n",
    "print(numeric_columns)"
   ]
  },
  {
   "cell_type": "code",
   "execution_count": 153,
   "metadata": {},
   "outputs": [
    {
     "name": "stdout",
     "output_type": "stream",
     "text": [
      "['Deny', 'Bad Cr Rec', 'Black', 'Applicant No.', 'Debt Pmt-Income Ratio', 'Housing Exp-Income Ratio', 'Loan-Prop Val Ratio', 'Cust Cr Score', 'Mtg Cr Score', 'URIA', 'Condo'] \n",
      "\n",
      "   Deny  Bad Cr Rec  Black  Applicant No.  Debt Pmt-Income Ratio  \\\n",
      "1     0           0      0            1.0                  0.221   \n",
      "2     0           0      0            2.0                  0.265   \n",
      "3     0           0      0            3.0                  0.372   \n",
      "4     0           0      0            4.0                  0.320   \n",
      "5     0           0      0            5.0                  0.360   \n",
      "\n",
      "   Housing Exp-Income Ratio  Loan-Prop Val Ratio  Cust Cr Score  Mtg Cr Score  \\\n",
      "1                     0.221             0.800000            5.0           2.0   \n",
      "2                     0.265             0.921875            2.0           2.0   \n",
      "3                     0.248             0.920398            1.0           2.0   \n",
      "4                     0.250             0.860465            1.0           2.0   \n",
      "5                     0.350             0.600000            1.0           1.0   \n",
      "\n",
      "   URIA  Condo  \n",
      "1   3.9      0  \n",
      "2   3.2      0  \n",
      "3   3.2      0  \n",
      "4   4.3      0  \n",
      "5   3.2      0  \n"
     ]
    }
   ],
   "source": [
    "#select numeric columns\n",
    "\n",
    "numeric_mortgage = prep_df[numeric_columns].copy()\n",
    "\n",
    "print(numeric_columns,'\\n')\n",
    "print(numeric_mortgage.head())"
   ]
  },
  {
   "cell_type": "code",
   "execution_count": 155,
   "metadata": {},
   "outputs": [
    {
     "name": "stdout",
     "output_type": "stream",
     "text": [
      "Overall features:  Index(['Deny', 'Bad Cr Rec', 'Black', 'Applicant No.', 'Debt Pmt-Income Ratio',\n",
      "       'Housing Exp-Income Ratio', 'Loan-Prop Val Ratio', 'Cust Cr Score',\n",
      "       'Mtg Cr Score', 'URIA', 'Condo'],\n",
      "      dtype='object') \n",
      "\n",
      "Chosen features:  Index(['Bad Cr Rec', 'Black', 'Debt Pmt-Income Ratio', 'Loan-Prop Val Ratio',\n",
      "       'Cust Cr Score'],\n",
      "      dtype='object') \n",
      "\n"
     ]
    },
    {
     "data": {
      "text/plain": [
       "array([191.39523794, 104.49006695,   0.76501434,  98.40628422,\n",
       "        42.87189887,  64.27136252, 175.79653732,  28.93863715,\n",
       "         4.52794261,   3.73133512])"
      ]
     },
     "execution_count": 155,
     "metadata": {},
     "output_type": "execute_result"
    }
   ],
   "source": [
    "# code from professors note\n",
    "# \n",
    "\n",
    "from sklearn.feature_selection import SelectKBest\n",
    "from sklearn.feature_selection import f_regression\n",
    "\n",
    "target = numeric_mortgage['Deny']\n",
    "features = numeric_mortgage.drop('Deny',axis=1).copy()\n",
    "feature_names = list(features.columns)\n",
    "\n",
    "selection_kBest = SelectKBest(f_regression,k = 5).fit(features,target)\n",
    "\n",
    "#find which columns were chosen\n",
    "features_kbest = selection_kBest.get_support()\n",
    "print(\"Overall features: \", numeric_mortgage.columns,'\\n')\n",
    "print(\"Chosen features: \", features.columns[features_kbest],'\\n')\n",
    "\n",
    "selection_kBest.scores_"
   ]
  },
  {
   "cell_type": "markdown",
   "metadata": {},
   "source": [
    "Our initial intuition was not bad if we compare to what we got from feature selection algorithm. The choosen coefficients generated by the algorithm are as follows: \n",
    "\n",
    "- Bad Cr Rec - bad credit record has 0.27 corelation score obtainer earlier in our EDA\n",
    "- Black - black and deny has 0.21 corelation ratio\n",
    "- Debt Pmt-Income Ratio - debt pament to income ratio has 0.20 corelation ratio\n",
    "- Loan-Prop Val Ratio - loan to property valuation ratio is 0.16 \n",
    "- Cust Cr Score - customer credit score has 0.26 corelation ratio, based on our EDA\n",
    "\n",
    "We picked 3 of the highest rated ones. \n"
   ]
  },
  {
   "cell_type": "markdown",
   "metadata": {},
   "source": [
    "#### Coefficient Interpretations"
   ]
  },
  {
   "cell_type": "code",
   "execution_count": 156,
   "metadata": {},
   "outputs": [
    {
     "data": {
      "text/html": [
       "<div>\n",
       "<style scoped>\n",
       "    .dataframe tbody tr th:only-of-type {\n",
       "        vertical-align: middle;\n",
       "    }\n",
       "\n",
       "    .dataframe tbody tr th {\n",
       "        vertical-align: top;\n",
       "    }\n",
       "\n",
       "    .dataframe thead th {\n",
       "        text-align: right;\n",
       "    }\n",
       "</style>\n",
       "<table border=\"1\" class=\"dataframe\">\n",
       "  <thead>\n",
       "    <tr style=\"text-align: right;\">\n",
       "      <th></th>\n",
       "      <th>Bad Cr Rec</th>\n",
       "      <th>Black</th>\n",
       "      <th>Applicant No.</th>\n",
       "      <th>Debt Pmt-Income Ratio</th>\n",
       "      <th>Housing Exp-Income Ratio</th>\n",
       "      <th>Loan-Prop Val Ratio</th>\n",
       "      <th>Cust Cr Score</th>\n",
       "      <th>Mtg Cr Score</th>\n",
       "      <th>URIA</th>\n",
       "      <th>Condo</th>\n",
       "    </tr>\n",
       "    <tr>\n",
       "      <th>Deny</th>\n",
       "      <th></th>\n",
       "      <th></th>\n",
       "      <th></th>\n",
       "      <th></th>\n",
       "      <th></th>\n",
       "      <th></th>\n",
       "      <th></th>\n",
       "      <th></th>\n",
       "      <th></th>\n",
       "      <th></th>\n",
       "    </tr>\n",
       "  </thead>\n",
       "  <tbody>\n",
       "    <tr>\n",
       "      <th>0</th>\n",
       "      <td>0.047255</td>\n",
       "      <td>0.115990</td>\n",
       "      <td>1185.955609</td>\n",
       "      <td>0.322929</td>\n",
       "      <td>0.250603</td>\n",
       "      <td>0.727083</td>\n",
       "      <td>1.955131</td>\n",
       "      <td>1.699284</td>\n",
       "      <td>3.741909</td>\n",
       "      <td>0.281623</td>\n",
       "    </tr>\n",
       "    <tr>\n",
       "      <th>1</th>\n",
       "      <td>0.266667</td>\n",
       "      <td>0.336842</td>\n",
       "      <td>1223.905263</td>\n",
       "      <td>0.388771</td>\n",
       "      <td>0.290212</td>\n",
       "      <td>0.816379</td>\n",
       "      <td>3.301754</td>\n",
       "      <td>1.880702</td>\n",
       "      <td>4.014035</td>\n",
       "      <td>0.336842</td>\n",
       "    </tr>\n",
       "  </tbody>\n",
       "</table>\n",
       "</div>"
      ],
      "text/plain": [
       "      Bad Cr Rec     Black  Applicant No.  Debt Pmt-Income Ratio  \\\n",
       "Deny                                                               \n",
       "0       0.047255  0.115990    1185.955609               0.322929   \n",
       "1       0.266667  0.336842    1223.905263               0.388771   \n",
       "\n",
       "      Housing Exp-Income Ratio  Loan-Prop Val Ratio  Cust Cr Score  \\\n",
       "Deny                                                                 \n",
       "0                     0.250603             0.727083       1.955131   \n",
       "1                     0.290212             0.816379       3.301754   \n",
       "\n",
       "      Mtg Cr Score      URIA     Condo  \n",
       "Deny                                    \n",
       "0         1.699284  3.741909  0.281623  \n",
       "1         1.880702  4.014035  0.336842  "
      ]
     },
     "execution_count": 156,
     "metadata": {},
     "output_type": "execute_result"
    }
   ],
   "source": [
    "prep_df.groupby('Deny').mean()"
   ]
  },
  {
   "cell_type": "markdown",
   "metadata": {},
   "source": [
    "We can see that on average, applicants with bad credit record are more likely to be denied of loans, same for customer credit score, customer credit score and if the applicant is black. "
   ]
  },
  {
   "cell_type": "code",
   "execution_count": 157,
   "metadata": {},
   "outputs": [
    {
     "data": {
      "text/html": [
       "<div>\n",
       "<style scoped>\n",
       "    .dataframe tbody tr th:only-of-type {\n",
       "        vertical-align: middle;\n",
       "    }\n",
       "\n",
       "    .dataframe tbody tr th {\n",
       "        vertical-align: top;\n",
       "    }\n",
       "\n",
       "    .dataframe thead th {\n",
       "        text-align: right;\n",
       "    }\n",
       "</style>\n",
       "<table border=\"1\" class=\"dataframe\">\n",
       "  <thead>\n",
       "    <tr style=\"text-align: right;\">\n",
       "      <th></th>\n",
       "      <th>Deny</th>\n",
       "      <th>Bad Cr Rec</th>\n",
       "      <th>Applicant No.</th>\n",
       "      <th>Debt Pmt-Income Ratio</th>\n",
       "      <th>Housing Exp-Income Ratio</th>\n",
       "      <th>Loan-Prop Val Ratio</th>\n",
       "      <th>Cust Cr Score</th>\n",
       "      <th>Mtg Cr Score</th>\n",
       "      <th>URIA</th>\n",
       "      <th>Condo</th>\n",
       "    </tr>\n",
       "    <tr>\n",
       "      <th>Black</th>\n",
       "      <th></th>\n",
       "      <th></th>\n",
       "      <th></th>\n",
       "      <th></th>\n",
       "      <th></th>\n",
       "      <th></th>\n",
       "      <th></th>\n",
       "      <th></th>\n",
       "      <th></th>\n",
       "      <th></th>\n",
       "    </tr>\n",
       "  </thead>\n",
       "  <tbody>\n",
       "    <tr>\n",
       "      <th>0</th>\n",
       "      <td>0.092602</td>\n",
       "      <td>0.056345</td>\n",
       "      <td>1189.820676</td>\n",
       "      <td>0.327463</td>\n",
       "      <td>0.253532</td>\n",
       "      <td>0.725971</td>\n",
       "      <td>1.966193</td>\n",
       "      <td>1.694757</td>\n",
       "      <td>3.829201</td>\n",
       "      <td>0.254287</td>\n",
       "    </tr>\n",
       "    <tr>\n",
       "      <th>1</th>\n",
       "      <td>0.283186</td>\n",
       "      <td>0.176991</td>\n",
       "      <td>1194.589971</td>\n",
       "      <td>0.350989</td>\n",
       "      <td>0.266266</td>\n",
       "      <td>0.808848</td>\n",
       "      <td>3.020649</td>\n",
       "      <td>1.879056</td>\n",
       "      <td>3.445133</td>\n",
       "      <td>0.492625</td>\n",
       "    </tr>\n",
       "  </tbody>\n",
       "</table>\n",
       "</div>"
      ],
      "text/plain": [
       "           Deny  Bad Cr Rec  Applicant No.  Debt Pmt-Income Ratio  \\\n",
       "Black                                                               \n",
       "0      0.092602    0.056345    1189.820676               0.327463   \n",
       "1      0.283186    0.176991    1194.589971               0.350989   \n",
       "\n",
       "       Housing Exp-Income Ratio  Loan-Prop Val Ratio  Cust Cr Score  \\\n",
       "Black                                                                 \n",
       "0                      0.253532             0.725971       1.966193   \n",
       "1                      0.266266             0.808848       3.020649   \n",
       "\n",
       "       Mtg Cr Score      URIA     Condo  \n",
       "Black                                    \n",
       "0          1.694757  3.829201  0.254287  \n",
       "1          1.879056  3.445133  0.492625  "
      ]
     },
     "execution_count": 157,
     "metadata": {},
     "output_type": "execute_result"
    }
   ],
   "source": [
    "prep_df.groupby('Black').mean()"
   ]
  },
  {
   "cell_type": "markdown",
   "metadata": {},
   "source": [
    "If someone is black, there is a high possibility that they get denied for loan. "
   ]
  },
  {
   "cell_type": "code",
   "execution_count": 159,
   "metadata": {},
   "outputs": [
    {
     "data": {
      "text/html": [
       "<div>\n",
       "<style scoped>\n",
       "    .dataframe tbody tr th:only-of-type {\n",
       "        vertical-align: middle;\n",
       "    }\n",
       "\n",
       "    .dataframe tbody tr th {\n",
       "        vertical-align: top;\n",
       "    }\n",
       "\n",
       "    .dataframe thead th {\n",
       "        text-align: right;\n",
       "    }\n",
       "</style>\n",
       "<table border=\"1\" class=\"dataframe\">\n",
       "  <thead>\n",
       "    <tr style=\"text-align: right;\">\n",
       "      <th></th>\n",
       "      <th>Deny</th>\n",
       "      <th>Bad Cr Rec</th>\n",
       "      <th>Black</th>\n",
       "      <th>Applicant No.</th>\n",
       "      <th>Debt Pmt-Income Ratio</th>\n",
       "      <th>Housing Exp-Income Ratio</th>\n",
       "      <th>Loan-Prop Val Ratio</th>\n",
       "      <th>Mtg Cr Score</th>\n",
       "      <th>URIA</th>\n",
       "      <th>Condo</th>\n",
       "    </tr>\n",
       "    <tr>\n",
       "      <th>Cust Cr Score</th>\n",
       "      <th></th>\n",
       "      <th></th>\n",
       "      <th></th>\n",
       "      <th></th>\n",
       "      <th></th>\n",
       "      <th></th>\n",
       "      <th></th>\n",
       "      <th></th>\n",
       "      <th></th>\n",
       "      <th></th>\n",
       "    </tr>\n",
       "  </thead>\n",
       "  <tbody>\n",
       "    <tr>\n",
       "      <th>1.0</th>\n",
       "      <td>0.062084</td>\n",
       "      <td>0.028825</td>\n",
       "      <td>0.093865</td>\n",
       "      <td>1183.405765</td>\n",
       "      <td>0.326638</td>\n",
       "      <td>0.256815</td>\n",
       "      <td>0.725442</td>\n",
       "      <td>1.679231</td>\n",
       "      <td>3.721360</td>\n",
       "      <td>0.292683</td>\n",
       "    </tr>\n",
       "    <tr>\n",
       "      <th>2.0</th>\n",
       "      <td>0.115646</td>\n",
       "      <td>0.052154</td>\n",
       "      <td>0.115646</td>\n",
       "      <td>1122.342404</td>\n",
       "      <td>0.327484</td>\n",
       "      <td>0.247073</td>\n",
       "      <td>0.735187</td>\n",
       "      <td>1.666667</td>\n",
       "      <td>3.992744</td>\n",
       "      <td>0.204082</td>\n",
       "    </tr>\n",
       "    <tr>\n",
       "      <th>3.0</th>\n",
       "      <td>0.182540</td>\n",
       "      <td>0.174603</td>\n",
       "      <td>0.214286</td>\n",
       "      <td>1262.182540</td>\n",
       "      <td>0.346406</td>\n",
       "      <td>0.250530</td>\n",
       "      <td>0.737880</td>\n",
       "      <td>1.738095</td>\n",
       "      <td>3.950794</td>\n",
       "      <td>0.269841</td>\n",
       "    </tr>\n",
       "    <tr>\n",
       "      <th>4.0</th>\n",
       "      <td>0.220779</td>\n",
       "      <td>0.025974</td>\n",
       "      <td>0.311688</td>\n",
       "      <td>1244.038961</td>\n",
       "      <td>0.314582</td>\n",
       "      <td>0.280821</td>\n",
       "      <td>0.743230</td>\n",
       "      <td>1.948052</td>\n",
       "      <td>3.525974</td>\n",
       "      <td>0.519481</td>\n",
       "    </tr>\n",
       "    <tr>\n",
       "      <th>5.0</th>\n",
       "      <td>0.230769</td>\n",
       "      <td>0.137363</td>\n",
       "      <td>0.230769</td>\n",
       "      <td>1320.631868</td>\n",
       "      <td>0.347202</td>\n",
       "      <td>0.258246</td>\n",
       "      <td>0.780560</td>\n",
       "      <td>1.785714</td>\n",
       "      <td>3.762088</td>\n",
       "      <td>0.280220</td>\n",
       "    </tr>\n",
       "    <tr>\n",
       "      <th>6.0</th>\n",
       "      <td>0.338308</td>\n",
       "      <td>0.318408</td>\n",
       "      <td>0.338308</td>\n",
       "      <td>1204.517413</td>\n",
       "      <td>0.347830</td>\n",
       "      <td>0.254240</td>\n",
       "      <td>0.785586</td>\n",
       "      <td>1.965174</td>\n",
       "      <td>3.649254</td>\n",
       "      <td>0.373134</td>\n",
       "    </tr>\n",
       "  </tbody>\n",
       "</table>\n",
       "</div>"
      ],
      "text/plain": [
       "                   Deny  Bad Cr Rec     Black  Applicant No.  \\\n",
       "Cust Cr Score                                                  \n",
       "1.0            0.062084    0.028825  0.093865    1183.405765   \n",
       "2.0            0.115646    0.052154  0.115646    1122.342404   \n",
       "3.0            0.182540    0.174603  0.214286    1262.182540   \n",
       "4.0            0.220779    0.025974  0.311688    1244.038961   \n",
       "5.0            0.230769    0.137363  0.230769    1320.631868   \n",
       "6.0            0.338308    0.318408  0.338308    1204.517413   \n",
       "\n",
       "               Debt Pmt-Income Ratio  Housing Exp-Income Ratio  \\\n",
       "Cust Cr Score                                                    \n",
       "1.0                         0.326638                  0.256815   \n",
       "2.0                         0.327484                  0.247073   \n",
       "3.0                         0.346406                  0.250530   \n",
       "4.0                         0.314582                  0.280821   \n",
       "5.0                         0.347202                  0.258246   \n",
       "6.0                         0.347830                  0.254240   \n",
       "\n",
       "               Loan-Prop Val Ratio  Mtg Cr Score      URIA     Condo  \n",
       "Cust Cr Score                                                         \n",
       "1.0                       0.725442      1.679231  3.721360  0.292683  \n",
       "2.0                       0.735187      1.666667  3.992744  0.204082  \n",
       "3.0                       0.737880      1.738095  3.950794  0.269841  \n",
       "4.0                       0.743230      1.948052  3.525974  0.519481  \n",
       "5.0                       0.780560      1.785714  3.762088  0.280220  \n",
       "6.0                       0.785586      1.965174  3.649254  0.373134  "
      ]
     },
     "execution_count": 159,
     "metadata": {},
     "output_type": "execute_result"
    }
   ],
   "source": [
    "prep_df.groupby('Cust Cr Score').mean()"
   ]
  },
  {
   "cell_type": "markdown",
   "metadata": {},
   "source": [
    "On averge, a customer with bad credit score is more likely to get denied for mortgage, even more likely than if someone is Black."
   ]
  },
  {
   "cell_type": "code",
   "execution_count": 160,
   "metadata": {},
   "outputs": [
    {
     "data": {
      "text/html": [
       "<div>\n",
       "<style scoped>\n",
       "    .dataframe tbody tr th:only-of-type {\n",
       "        vertical-align: middle;\n",
       "    }\n",
       "\n",
       "    .dataframe tbody tr th {\n",
       "        vertical-align: top;\n",
       "    }\n",
       "\n",
       "    .dataframe thead th {\n",
       "        text-align: right;\n",
       "    }\n",
       "</style>\n",
       "<table border=\"1\" class=\"dataframe\">\n",
       "  <thead>\n",
       "    <tr style=\"text-align: right;\">\n",
       "      <th></th>\n",
       "      <th>Deny</th>\n",
       "      <th>Black</th>\n",
       "      <th>Applicant No.</th>\n",
       "      <th>Debt Pmt-Income Ratio</th>\n",
       "      <th>Housing Exp-Income Ratio</th>\n",
       "      <th>Loan-Prop Val Ratio</th>\n",
       "      <th>Cust Cr Score</th>\n",
       "      <th>Mtg Cr Score</th>\n",
       "      <th>URIA</th>\n",
       "      <th>Condo</th>\n",
       "    </tr>\n",
       "    <tr>\n",
       "      <th>Bad Cr Rec</th>\n",
       "      <th></th>\n",
       "      <th></th>\n",
       "      <th></th>\n",
       "      <th></th>\n",
       "      <th></th>\n",
       "      <th></th>\n",
       "      <th></th>\n",
       "      <th></th>\n",
       "      <th></th>\n",
       "      <th></th>\n",
       "    </tr>\n",
       "  </thead>\n",
       "  <tbody>\n",
       "    <tr>\n",
       "      <th>0</th>\n",
       "      <td>0.094785</td>\n",
       "      <td>0.126531</td>\n",
       "      <td>1176.395918</td>\n",
       "      <td>0.327723</td>\n",
       "      <td>0.253809</td>\n",
       "      <td>0.732696</td>\n",
       "      <td>1.981406</td>\n",
       "      <td>1.712472</td>\n",
       "      <td>3.768118</td>\n",
       "      <td>0.284354</td>\n",
       "    </tr>\n",
       "    <tr>\n",
       "      <th>1</th>\n",
       "      <td>0.434286</td>\n",
       "      <td>0.342857</td>\n",
       "      <td>1368.211429</td>\n",
       "      <td>0.369754</td>\n",
       "      <td>0.274708</td>\n",
       "      <td>0.801777</td>\n",
       "      <td>3.817143</td>\n",
       "      <td>1.828571</td>\n",
       "      <td>3.854857</td>\n",
       "      <td>0.337143</td>\n",
       "    </tr>\n",
       "  </tbody>\n",
       "</table>\n",
       "</div>"
      ],
      "text/plain": [
       "                Deny     Black  Applicant No.  Debt Pmt-Income Ratio  \\\n",
       "Bad Cr Rec                                                             \n",
       "0           0.094785  0.126531    1176.395918               0.327723   \n",
       "1           0.434286  0.342857    1368.211429               0.369754   \n",
       "\n",
       "            Housing Exp-Income Ratio  Loan-Prop Val Ratio  Cust Cr Score  \\\n",
       "Bad Cr Rec                                                                 \n",
       "0                           0.253809             0.732696       1.981406   \n",
       "1                           0.274708             0.801777       3.817143   \n",
       "\n",
       "            Mtg Cr Score      URIA     Condo  \n",
       "Bad Cr Rec                                    \n",
       "0               1.712472  3.768118  0.284354  \n",
       "1               1.828571  3.854857  0.337143  "
      ]
     },
     "execution_count": 160,
     "metadata": {},
     "output_type": "execute_result"
    }
   ],
   "source": [
    "prep_df.groupby('Bad Cr Rec').mean()"
   ]
  },
  {
   "cell_type": "markdown",
   "metadata": {},
   "source": [
    "Someone with bad credit record is more likely to get rejected for mortgage with 0.43, even more than customer credit score and being Black. "
   ]
  },
  {
   "cell_type": "markdown",
   "metadata": {},
   "source": [
    "### Regression Modeling Work"
   ]
  },
  {
   "cell_type": "code",
   "execution_count": 208,
   "metadata": {},
   "outputs": [],
   "source": [
    "import statsmodels.api as sm\n",
    "from patsy import dmatrices\n",
    "from sklearn.linear_model import LinearRegression\n",
    "from sklearn.model_selection import train_test_split\n",
    "from sklearn.metrics import r2_score\n",
    "from sklearn import metrics\n",
    "from sklearn.tree import DecisionTreeRegressor\n"
   ]
  },
  {
   "cell_type": "code",
   "execution_count": 234,
   "metadata": {},
   "outputs": [],
   "source": [
    "regr_df = prep_df.copy()"
   ]
  },
  {
   "cell_type": "code",
   "execution_count": 210,
   "metadata": {},
   "outputs": [],
   "source": [
    "# # create X and y list\n",
    "\n",
    "# X = regr_df[['Bad Cr Rec','Black', 'Debt Pmt-Income Ratio', 'Housing Exp-Income Ratio', 'Loan-Prop Val Ratio', 'Cust Cr Score', 'Mtg Cr Score', 'URIA', 'Condo']]\n",
    "\n",
    "# y = regr_df['Deny']"
   ]
  },
  {
   "cell_type": "code",
   "execution_count": 235,
   "metadata": {},
   "outputs": [],
   "source": [
    "# create X and y list\n",
    "\n",
    "X = regr_df[['Bad Cr Rec','Black',  'Debt Pmt-Income Ratio', 'Housing Exp-Income Ratio', 'Loan-Prop Val Ratio', 'Cust Cr Score']]\n",
    "\n",
    "y = regr_df['Deny']"
   ]
  },
  {
   "cell_type": "code",
   "execution_count": 236,
   "metadata": {},
   "outputs": [],
   "source": [
    "# splitting data into train and test\n",
    "\n",
    "X_train, X_test, y_train, y_test = train_test_split(X, y, test_size=0.40, random_state=101)"
   ]
  },
  {
   "cell_type": "code",
   "execution_count": 237,
   "metadata": {},
   "outputs": [
    {
     "data": {
      "text/plain": [
       "LinearRegression()"
      ]
     },
     "execution_count": 237,
     "metadata": {},
     "output_type": "execute_result"
    }
   ],
   "source": [
    "# creating and training linear regression model\n",
    "lr = LinearRegression()\n",
    "lr.fit(X_train,y_train)"
   ]
  },
  {
   "cell_type": "markdown",
   "metadata": {},
   "source": [
    "#### Linear regression model evaluation"
   ]
  },
  {
   "cell_type": "code",
   "execution_count": 238,
   "metadata": {},
   "outputs": [
    {
     "name": "stdout",
     "output_type": "stream",
     "text": [
      "-0.25044242938510763\n"
     ]
    }
   ],
   "source": [
    "# Linear Regression Model Evaluation\n",
    "\n",
    "print(lr.intercept_)"
   ]
  },
  {
   "cell_type": "code",
   "execution_count": 239,
   "metadata": {},
   "outputs": [
    {
     "data": {
      "text/html": [
       "<div>\n",
       "<style scoped>\n",
       "    .dataframe tbody tr th:only-of-type {\n",
       "        vertical-align: middle;\n",
       "    }\n",
       "\n",
       "    .dataframe tbody tr th {\n",
       "        vertical-align: top;\n",
       "    }\n",
       "\n",
       "    .dataframe thead th {\n",
       "        text-align: right;\n",
       "    }\n",
       "</style>\n",
       "<table border=\"1\" class=\"dataframe\">\n",
       "  <thead>\n",
       "    <tr style=\"text-align: right;\">\n",
       "      <th></th>\n",
       "      <th>Coefficient</th>\n",
       "    </tr>\n",
       "  </thead>\n",
       "  <tbody>\n",
       "    <tr>\n",
       "      <th>Bad Cr Rec</th>\n",
       "      <td>0.213093</td>\n",
       "    </tr>\n",
       "    <tr>\n",
       "      <th>Black</th>\n",
       "      <td>0.113650</td>\n",
       "    </tr>\n",
       "    <tr>\n",
       "      <th>Debt Pmt-Income Ratio</th>\n",
       "      <td>0.289080</td>\n",
       "    </tr>\n",
       "    <tr>\n",
       "      <th>Housing Exp-Income Ratio</th>\n",
       "      <td>0.115419</td>\n",
       "    </tr>\n",
       "    <tr>\n",
       "      <th>Loan-Prop Val Ratio</th>\n",
       "      <td>0.201468</td>\n",
       "    </tr>\n",
       "    <tr>\n",
       "      <th>Cust Cr Score</th>\n",
       "      <td>0.033459</td>\n",
       "    </tr>\n",
       "  </tbody>\n",
       "</table>\n",
       "</div>"
      ],
      "text/plain": [
       "                          Coefficient\n",
       "Bad Cr Rec                   0.213093\n",
       "Black                        0.113650\n",
       "Debt Pmt-Income Ratio        0.289080\n",
       "Housing Exp-Income Ratio     0.115419\n",
       "Loan-Prop Val Ratio          0.201468\n",
       "Cust Cr Score                0.033459"
      ]
     },
     "execution_count": 239,
     "metadata": {},
     "output_type": "execute_result"
    }
   ],
   "source": [
    "# create coefficient relation\n",
    "\n",
    "coeff_df = pd.DataFrame(lr.coef_,X.columns,columns=['Coefficient'])\n",
    "coeff_df"
   ]
  },
  {
   "cell_type": "markdown",
   "metadata": {},
   "source": [
    "The linear regression modelel generated above makes sense but is somehow different than what was expected from the EDA works. The \n",
    "\n",
    "- the feature that matter the most is Debt Pmt-Income Ratio, which was included in preliminary EDA but was a little lower rate\n",
    "- debt-pmt-income ratio is the most significant attribute on denial of loan\n",
    "- second largest reason for loan denial and acceptance became the Bad Credit Record of the mortgage applicant\n",
    "- loan-prop val ratio - loan to property valuation ratio is the third largest feature that matter on acceptance or denial of loan\n",
    "- an individuals race also seem to matter a lot when it comes to loan acceptance/denial, \"Black\" became the fourth largest reason\n",
    "\n",
    "The data makes sense because these features are identified as some major factor in loan acceptance/denial, but they had different magnitude."
   ]
  },
  {
   "cell_type": "code",
   "execution_count": 240,
   "metadata": {},
   "outputs": [],
   "source": [
    "predictions = lr.predict(X_test)\n"
   ]
  },
  {
   "cell_type": "code",
   "execution_count": 241,
   "metadata": {},
   "outputs": [
    {
     "data": {
      "text/plain": [
       "<matplotlib.collections.PathCollection at 0x1efaf58f0d0>"
      ]
     },
     "execution_count": 241,
     "metadata": {},
     "output_type": "execute_result"
    },
    {
     "data": {
      "image/png": "[encoded data removed]",
      "text/plain": [
       "<Figure size 432x288 with 1 Axes>"
      ]
     },
     "metadata": {
      "needs_background": "light"
     },
     "output_type": "display_data"
    }
   ],
   "source": [
    "plt.scatter(y_test, predictions)"
   ]
  },
  {
   "cell_type": "code",
   "execution_count": 242,
   "metadata": {},
   "outputs": [
    {
     "name": "stderr",
     "output_type": "stream",
     "text": [
      "c:\\Users\\User\\anaconda3\\lib\\site-packages\\seaborn\\distributions.py:2619: FutureWarning: `distplot` is a deprecated function and will be removed in a future version. Please adapt your code to use either `displot` (a figure-level function with similar flexibility) or `histplot` (an axes-level function for histograms).\n",
      "  warnings.warn(msg, FutureWarning)\n"
     ]
    },
    {
     "data": {
      "image/png": "[encoded data removed]",
      "text/plain": [
       "<Figure size 432x288 with 1 Axes>"
      ]
     },
     "metadata": {
      "needs_background": "light"
     },
     "output_type": "display_data"
    }
   ],
   "source": [
    "sns.distplot((y_test-predictions),bins=40);"
   ]
  },
  {
   "cell_type": "markdown",
   "metadata": {},
   "source": [
    "The denial of loan is much less, which is relatively alligned to our original data. This curve gives somehow normally distributed data. "
   ]
  },
  {
   "cell_type": "code",
   "execution_count": 243,
   "metadata": {},
   "outputs": [
    {
     "name": "stdout",
     "output_type": "stream",
     "text": [
      "MAE: 0.18153819030331492\n",
      "MSE: 0.08194009016775347\n",
      "RMSE: 0.2862517950472162\n"
     ]
    }
   ],
   "source": [
    "# is not a requirement of our assignment, keeping for future reference\n",
    "\n",
    "# Mean Absolute Error (MAE)\n",
    "print('MAE:', metrics.mean_absolute_error(y_test, predictions))\n",
    "\n",
    "# Mean Square Error\n",
    "print('MSE:', metrics.mean_squared_error(y_test, predictions))\n",
    "\n",
    "# Root Mean Square Error\n",
    "print('RMSE:', np.sqrt(metrics.mean_squared_error(y_test, predictions)))"
   ]
  },
  {
   "cell_type": "markdown",
   "metadata": {},
   "source": [
    "## Conclusion: \n",
    "\n",
    "Having done the analysis of the data following conclusion can be drawn: \n",
    "- Debt payment to income ratio is the number 1 reason or the factor that impacts the morgrage denial/ acceptnce\n",
    "- the initial analsis of customer credit score being top reason for housing loan came to be less important according to this analysis\n",
    "- The initial prediction of bad credit record being an attribute that impacted on loan denial was still true till the final analysis. \n",
    "\n",
    "The EDA, feature selection, test and training modle all impacts the end result. It would be interesting to see how, other approaches of selecting testing and training data, data preparation, regression modeling and feature selection can be done, which might lead to different result. \n",
    "\n"
   ]
  },
  {
   "cell_type": "markdown",
   "metadata": {},
   "source": [
    "References:\n",
    "\n",
    "\n",
    "https://github.com/huzaifsayed/Linear-Regression-Model-for-House-Price-Prediction/blob/master/Linear%20Regression%20Model.ipynb"
   ]
  }
 ],
 "metadata": {
  "kernelspec": {
   "display_name": "Python 3.9.12 ('base')",
   "language": "python",
   "name": "python3"
  },
  "language_info": {
   "codemirror_mode": {
    "name": "ipython",
    "version": 3
   },
   "file_extension": ".py",
   "mimetype": "text/x-python",
   "name": "python",
   "nbconvert_exporter": "python",
   "pygments_lexer": "ipython3",
   "version": "3.9.12"
  },
  "orig_nbformat": 4,
  "vscode": {
   "interpreter": {
    "hash": "f08154012ddadd8e950e6e9e035c7a7b32c136e7647e9b7c77e02eb723a8bedb"
   }
  }
 },
 "nbformat": 4,
 "nbformat_minor": 2
}
